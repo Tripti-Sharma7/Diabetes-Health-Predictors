{
  "cells": [
    {
      "cell_type": "markdown",
      "metadata": {
        "id": "eR7KzSFgm4nr"
      },
      "source": [
        "# **Diabetes Health Predictors** \n",
        "\n",
        "**Supervised Machine Learning (BA 810)**\n",
        "\n",
        "Group 4\n",
        "\n",
        "*   Carolina Bellani \n",
        "*   Mugdha Khairnar\n",
        "*   Syeda Ghazal Qadri \n",
        "*   Tripti Sharma"
      ]
    },
    {
      "cell_type": "markdown",
      "metadata": {
        "id": "oxo9AyzfjjBH"
      },
      "source": [
        "# 1.Introduction\n",
        "\n",
        "Diabetes is among the most prevalent chronic diseases in the United States, impacting millions of Americans each year and exerting a significant financial burden on the economy. \n",
        "\n",
        "* More than 37 million US adults have diabetes, and 1 in 5 of them are not aware.\n",
        "* Diabetes is the seventh leading cause of death in the United States.\n",
        "* Diabetes is the No. 1 cause of kidney failure, lower-limb amputations, and adult blindness.\n",
        "* In the last 20 years, the number of adults diagnosed with diabetes has more than doubled.\n",
        "\n",
        "There are several forms of diabetes. Type 1 diabetes, also known as juvenile diabetes, occurs when the body’s own immune system destroys the insulin secreting pancreatic beta-cells. Type 1 diabetes is the most severe form of the disease and requires multiple daily insulin injections for survival. Even with excellent glucose control, patients are at significant risk for developing debilitating complications. Type 2 diabetes, formally known as adult-onset diabetes, occurs when there are insufficient insulin-producing pancreatic beta-cells for the body’s needs. Type 2 diabetes is commonly associated with obesity. There are other forms of diabetes caused by rare mutations in important genes. In all forms of diabetes, the exact causes remain unclear.\n",
        "\n",
        "Diabetes is clearly one of the most important medical problems of our time There is a need to study it and find a way to avoid/control it. "
      ]
    },
    {
      "cell_type": "markdown",
      "metadata": {
        "id": "_9bUfSuVkpzu"
      },
      "source": [
        "# 2.About the Dataset\n",
        "\n",
        "The Behavioral Risk Factor Surveillance System (BRFSS) is a health-related telephone survey that is collected annually by the CDC. Each year, the survey collects responses from over 400,000 Americans on health-related risk behaviors, chronic health conditions, and the use of preventative services. It has been conducted every year since 1984.\n",
        "\n",
        "https://www.cdc.gov/brfss/annual_data/annual_data.htm\n",
        "\n"
      ]
    },
    {
      "cell_type": "markdown",
      "metadata": {
        "id": "__lRxc8PmMM2"
      },
      "source": [
        "About Columns :\n",
        "\n",
        "* Diabetes_binary : you have diabetes (0,1)\n",
        "\n",
        "* HighBP : Adults who have been told they have high blood pressure by a doctor, nurse, or other health professional (0,1)\n",
        "\n",
        "* HighChol : Have you EVER been told by a doctor, nurse or other health professional that your blood cholesterol is high? (0,1)\n",
        "\n",
        "* CholCheck : Cholesterol check within past five years (0,1)\n",
        "\n",
        "* BMI : Body Mass Index (BMI)\n",
        "\n",
        "* Smoker : Have you smoked at least 100 cigarettes in your entire life? [Note: 5 packs = 100 cigarettes] (0,1)\n",
        "\n",
        "* Stroke : (Ever told) you had a stroke. (0,1)\n",
        "\n",
        "* HeartDiseaseorAttack : Respondents that have ever reported having coronary heart disease (CHD) or myocardial infarction (MI) (0,1)\n",
        "\n",
        "* PhysActivity : Adults who reported doing physical activity or exercise during the past 30 days other than their regular job (0,1)\n",
        "\n",
        "* Fruits : Consume Fruit 1 or more times per day (0,1)\n",
        "\n",
        "* Veggies : Consume Vegetables 1 or more times per day (0,1)\n",
        "\n",
        "* HvyAlcoholConsump : Heavy drinkers (adult men having more than 14 drinks per week and adult women having more than 7 drinks per week)(0,1)\n",
        "\n",
        "* AnyHealthcare : Do you have any kind of health care coverage, including health insurance, prepaid plans such as HMOs, or government plans such as Medicare, or Indian Health Service? (0,1)\n",
        "\n",
        "* NoDocbcCost : Was there a time in the past 12 months when you needed to see a doctor but could not because of cost? (0,1)\n",
        "\n",
        "* GenHlth : Would you say that in general your health is: rate (1 ~ 5)\n",
        "\n",
        "* MentHlth : Now thinking about your mental health, which includes stress, depression, and problems with emotions, for how many days during the past 30 days was your mental health not good? (0 ~ 30)\n",
        "\n",
        "* PhysHlth : Now thinking about your physical health, which includes physical illness and injury, for how many days during the past 30 days was your physical health not good? (0 ~ 30)\n",
        "\n",
        "* DiffWalk : Do you have serious difficulty walking or climbing stairs? (0,1)\n",
        "\n",
        "* Sex : Indicate sex of respondent (0,1) (Female or Male)\n",
        "\n",
        "* Age : Fourteen-level age category (1 ~ 14)\n",
        "\n",
        "* Education : What is the highest grade or year of school you completed? (1 ~ 6)\n",
        "\n",
        "* Income : Is your annual household income from all sources: (If respondent refuses at any income level, code \"Refused.\") (1 ~ 8)\n"
      ]
    },
    {
      "cell_type": "markdown",
      "metadata": {
        "id": "6njanaee84eS"
      },
      "source": [
        "# 3.Importing Data\n"
      ]
    },
    {
      "cell_type": "code",
      "execution_count": null,
      "metadata": {
        "id": "l-hn9JEI3uVP"
      },
      "outputs": [],
      "source": [
        "import pandas as pd\n",
        "import numpy as np\n",
        "import matplotlib.pyplot as plt\n",
        "import seaborn as sns\n",
        "from pandas import read_csv\n",
        "import warnings\n",
        "warnings.filterwarnings(\"ignore\")"
      ]
    },
    {
      "cell_type": "code",
      "execution_count": null,
      "metadata": {
        "colab": {
          "base_uri": "https://localhost:8080/"
        },
        "id": "4TXO6Bem3_NX",
        "outputId": "a5aa7882-9a5b-445f-ecd3-c8e5f7fefab9"
      },
      "outputs": [
        {
          "name": "stdout",
          "output_type": "stream",
          "text": [
            "Mounted at /content/drive\n"
          ]
        }
      ],
      "source": [
        "from google.colab import drive\n",
        "drive.mount('/content/drive')\n",
        "data_folder = '/content/drive/Shareddrives/BA810- 04/Diabetes data/'\n",
        "df = pd.read_csv(data_folder + 'diabetes_012_health_indicators_BRFSS2015.csv')"
      ]
    },
    {
      "cell_type": "markdown",
      "metadata": {
        "id": "D3mVPmgN8w-f"
      },
      "source": [
        "# 4.Data Exploration\n",
        "\n",
        "Getting a general idea of wha tour dataset looks like:"
      ]
    },
    {
      "cell_type": "code",
      "execution_count": null,
      "metadata": {
        "colab": {
          "base_uri": "https://localhost:8080/"
        },
        "id": "yWfeXkBQ4CzQ",
        "outputId": "d3b28174-03bd-49d9-b806-3bdb1b96f618"
      },
      "outputs": [
        {
          "data": {
            "text/html": [
              "\n",
              "  <div id=\"df-c88483ac-879c-47c0-bdd2-5b7e0ca76f68\">\n",
              "    <div class=\"colab-df-container\">\n",
              "      <div>\n",
              "<style scoped>\n",
              "    .dataframe tbody tr th:only-of-type {\n",
              "        vertical-align: middle;\n",
              "    }\n",
              "\n",
              "    .dataframe tbody tr th {\n",
              "        vertical-align: top;\n",
              "    }\n",
              "\n",
              "    .dataframe thead th {\n",
              "        text-align: right;\n",
              "    }\n",
              "</style>\n",
              "<table border=\"1\" class=\"dataframe\">\n",
              "  <thead>\n",
              "    <tr style=\"text-align: right;\">\n",
              "      <th></th>\n",
              "      <th>Diabetes_012</th>\n",
              "      <th>HighBP</th>\n",
              "      <th>HighChol</th>\n",
              "      <th>CholCheck</th>\n",
              "      <th>BMI</th>\n",
              "      <th>Smoker</th>\n",
              "      <th>Stroke</th>\n",
              "      <th>HeartDiseaseorAttack</th>\n",
              "      <th>PhysActivity</th>\n",
              "      <th>Fruits</th>\n",
              "      <th>...</th>\n",
              "      <th>AnyHealthcare</th>\n",
              "      <th>NoDocbcCost</th>\n",
              "      <th>GenHlth</th>\n",
              "      <th>MentHlth</th>\n",
              "      <th>PhysHlth</th>\n",
              "      <th>DiffWalk</th>\n",
              "      <th>Sex</th>\n",
              "      <th>Age</th>\n",
              "      <th>Education</th>\n",
              "      <th>Income</th>\n",
              "    </tr>\n",
              "  </thead>\n",
              "  <tbody>\n",
              "    <tr>\n",
              "      <th>0</th>\n",
              "      <td>0.0</td>\n",
              "      <td>1.0</td>\n",
              "      <td>1.0</td>\n",
              "      <td>1.0</td>\n",
              "      <td>40.0</td>\n",
              "      <td>1.0</td>\n",
              "      <td>0.0</td>\n",
              "      <td>0.0</td>\n",
              "      <td>0.0</td>\n",
              "      <td>0.0</td>\n",
              "      <td>...</td>\n",
              "      <td>1.0</td>\n",
              "      <td>0.0</td>\n",
              "      <td>5.0</td>\n",
              "      <td>18.0</td>\n",
              "      <td>15.0</td>\n",
              "      <td>1.0</td>\n",
              "      <td>0.0</td>\n",
              "      <td>9.0</td>\n",
              "      <td>4.0</td>\n",
              "      <td>3.0</td>\n",
              "    </tr>\n",
              "    <tr>\n",
              "      <th>1</th>\n",
              "      <td>0.0</td>\n",
              "      <td>0.0</td>\n",
              "      <td>0.0</td>\n",
              "      <td>0.0</td>\n",
              "      <td>25.0</td>\n",
              "      <td>1.0</td>\n",
              "      <td>0.0</td>\n",
              "      <td>0.0</td>\n",
              "      <td>1.0</td>\n",
              "      <td>0.0</td>\n",
              "      <td>...</td>\n",
              "      <td>0.0</td>\n",
              "      <td>1.0</td>\n",
              "      <td>3.0</td>\n",
              "      <td>0.0</td>\n",
              "      <td>0.0</td>\n",
              "      <td>0.0</td>\n",
              "      <td>0.0</td>\n",
              "      <td>7.0</td>\n",
              "      <td>6.0</td>\n",
              "      <td>1.0</td>\n",
              "    </tr>\n",
              "    <tr>\n",
              "      <th>2</th>\n",
              "      <td>0.0</td>\n",
              "      <td>1.0</td>\n",
              "      <td>1.0</td>\n",
              "      <td>1.0</td>\n",
              "      <td>28.0</td>\n",
              "      <td>0.0</td>\n",
              "      <td>0.0</td>\n",
              "      <td>0.0</td>\n",
              "      <td>0.0</td>\n",
              "      <td>1.0</td>\n",
              "      <td>...</td>\n",
              "      <td>1.0</td>\n",
              "      <td>1.0</td>\n",
              "      <td>5.0</td>\n",
              "      <td>30.0</td>\n",
              "      <td>30.0</td>\n",
              "      <td>1.0</td>\n",
              "      <td>0.0</td>\n",
              "      <td>9.0</td>\n",
              "      <td>4.0</td>\n",
              "      <td>8.0</td>\n",
              "    </tr>\n",
              "    <tr>\n",
              "      <th>3</th>\n",
              "      <td>0.0</td>\n",
              "      <td>1.0</td>\n",
              "      <td>0.0</td>\n",
              "      <td>1.0</td>\n",
              "      <td>27.0</td>\n",
              "      <td>0.0</td>\n",
              "      <td>0.0</td>\n",
              "      <td>0.0</td>\n",
              "      <td>1.0</td>\n",
              "      <td>1.0</td>\n",
              "      <td>...</td>\n",
              "      <td>1.0</td>\n",
              "      <td>0.0</td>\n",
              "      <td>2.0</td>\n",
              "      <td>0.0</td>\n",
              "      <td>0.0</td>\n",
              "      <td>0.0</td>\n",
              "      <td>0.0</td>\n",
              "      <td>11.0</td>\n",
              "      <td>3.0</td>\n",
              "      <td>6.0</td>\n",
              "    </tr>\n",
              "    <tr>\n",
              "      <th>4</th>\n",
              "      <td>0.0</td>\n",
              "      <td>1.0</td>\n",
              "      <td>1.0</td>\n",
              "      <td>1.0</td>\n",
              "      <td>24.0</td>\n",
              "      <td>0.0</td>\n",
              "      <td>0.0</td>\n",
              "      <td>0.0</td>\n",
              "      <td>1.0</td>\n",
              "      <td>1.0</td>\n",
              "      <td>...</td>\n",
              "      <td>1.0</td>\n",
              "      <td>0.0</td>\n",
              "      <td>2.0</td>\n",
              "      <td>3.0</td>\n",
              "      <td>0.0</td>\n",
              "      <td>0.0</td>\n",
              "      <td>0.0</td>\n",
              "      <td>11.0</td>\n",
              "      <td>5.0</td>\n",
              "      <td>4.0</td>\n",
              "    </tr>\n",
              "  </tbody>\n",
              "</table>\n",
              "<p>5 rows × 22 columns</p>\n",
              "</div>\n",
              "      <button class=\"colab-df-convert\" onclick=\"convertToInteractive('df-c88483ac-879c-47c0-bdd2-5b7e0ca76f68')\"\n",
              "              title=\"Convert this dataframe to an interactive table.\"\n",
              "              style=\"display:none;\">\n",
              "        \n",
              "  <svg xmlns=\"http://www.w3.org/2000/svg\" height=\"24px\"viewBox=\"0 0 24 24\"\n",
              "       width=\"24px\">\n",
              "    <path d=\"M0 0h24v24H0V0z\" fill=\"none\"/>\n",
              "    <path d=\"M18.56 5.44l.94 2.06.94-2.06 2.06-.94-2.06-.94-.94-2.06-.94 2.06-2.06.94zm-11 1L8.5 8.5l.94-2.06 2.06-.94-2.06-.94L8.5 2.5l-.94 2.06-2.06.94zm10 10l.94 2.06.94-2.06 2.06-.94-2.06-.94-.94-2.06-.94 2.06-2.06.94z\"/><path d=\"M17.41 7.96l-1.37-1.37c-.4-.4-.92-.59-1.43-.59-.52 0-1.04.2-1.43.59L10.3 9.45l-7.72 7.72c-.78.78-.78 2.05 0 2.83L4 21.41c.39.39.9.59 1.41.59.51 0 1.02-.2 1.41-.59l7.78-7.78 2.81-2.81c.8-.78.8-2.07 0-2.86zM5.41 20L4 18.59l7.72-7.72 1.47 1.35L5.41 20z\"/>\n",
              "  </svg>\n",
              "      </button>\n",
              "      \n",
              "  <style>\n",
              "    .colab-df-container {\n",
              "      display:flex;\n",
              "      flex-wrap:wrap;\n",
              "      gap: 12px;\n",
              "    }\n",
              "\n",
              "    .colab-df-convert {\n",
              "      background-color: #E8F0FE;\n",
              "      border: none;\n",
              "      border-radius: 50%;\n",
              "      cursor: pointer;\n",
              "      display: none;\n",
              "      fill: #1967D2;\n",
              "      height: 32px;\n",
              "      padding: 0 0 0 0;\n",
              "      width: 32px;\n",
              "    }\n",
              "\n",
              "    .colab-df-convert:hover {\n",
              "      background-color: #E2EBFA;\n",
              "      box-shadow: 0px 1px 2px rgba(60, 64, 67, 0.3), 0px 1px 3px 1px rgba(60, 64, 67, 0.15);\n",
              "      fill: #174EA6;\n",
              "    }\n",
              "\n",
              "    [theme=dark] .colab-df-convert {\n",
              "      background-color: #3B4455;\n",
              "      fill: #D2E3FC;\n",
              "    }\n",
              "\n",
              "    [theme=dark] .colab-df-convert:hover {\n",
              "      background-color: #434B5C;\n",
              "      box-shadow: 0px 1px 3px 1px rgba(0, 0, 0, 0.15);\n",
              "      filter: drop-shadow(0px 1px 2px rgba(0, 0, 0, 0.3));\n",
              "      fill: #FFFFFF;\n",
              "    }\n",
              "  </style>\n",
              "\n",
              "      <script>\n",
              "        const buttonEl =\n",
              "          document.querySelector('#df-c88483ac-879c-47c0-bdd2-5b7e0ca76f68 button.colab-df-convert');\n",
              "        buttonEl.style.display =\n",
              "          google.colab.kernel.accessAllowed ? 'block' : 'none';\n",
              "\n",
              "        async function convertToInteractive(key) {\n",
              "          const element = document.querySelector('#df-c88483ac-879c-47c0-bdd2-5b7e0ca76f68');\n",
              "          const dataTable =\n",
              "            await google.colab.kernel.invokeFunction('convertToInteractive',\n",
              "                                                     [key], {});\n",
              "          if (!dataTable) return;\n",
              "\n",
              "          const docLinkHtml = 'Like what you see? Visit the ' +\n",
              "            '<a target=\"_blank\" href=https://colab.research.google.com/notebooks/data_table.ipynb>data table notebook</a>'\n",
              "            + ' to learn more about interactive tables.';\n",
              "          element.innerHTML = '';\n",
              "          dataTable['output_type'] = 'display_data';\n",
              "          await google.colab.output.renderOutput(dataTable, element);\n",
              "          const docLink = document.createElement('div');\n",
              "          docLink.innerHTML = docLinkHtml;\n",
              "          element.appendChild(docLink);\n",
              "        }\n",
              "      </script>\n",
              "    </div>\n",
              "  </div>\n",
              "  "
            ],
            "text/plain": [
              "   Diabetes_012  HighBP  HighChol  CholCheck   BMI  Smoker  Stroke  \\\n",
              "0           0.0     1.0       1.0        1.0  40.0     1.0     0.0   \n",
              "1           0.0     0.0       0.0        0.0  25.0     1.0     0.0   \n",
              "2           0.0     1.0       1.0        1.0  28.0     0.0     0.0   \n",
              "3           0.0     1.0       0.0        1.0  27.0     0.0     0.0   \n",
              "4           0.0     1.0       1.0        1.0  24.0     0.0     0.0   \n",
              "\n",
              "   HeartDiseaseorAttack  PhysActivity  Fruits  ...  AnyHealthcare  \\\n",
              "0                   0.0           0.0     0.0  ...            1.0   \n",
              "1                   0.0           1.0     0.0  ...            0.0   \n",
              "2                   0.0           0.0     1.0  ...            1.0   \n",
              "3                   0.0           1.0     1.0  ...            1.0   \n",
              "4                   0.0           1.0     1.0  ...            1.0   \n",
              "\n",
              "   NoDocbcCost  GenHlth  MentHlth  PhysHlth  DiffWalk  Sex   Age  Education  \\\n",
              "0          0.0      5.0      18.0      15.0       1.0  0.0   9.0        4.0   \n",
              "1          1.0      3.0       0.0       0.0       0.0  0.0   7.0        6.0   \n",
              "2          1.0      5.0      30.0      30.0       1.0  0.0   9.0        4.0   \n",
              "3          0.0      2.0       0.0       0.0       0.0  0.0  11.0        3.0   \n",
              "4          0.0      2.0       3.0       0.0       0.0  0.0  11.0        5.0   \n",
              "\n",
              "   Income  \n",
              "0     3.0  \n",
              "1     1.0  \n",
              "2     8.0  \n",
              "3     6.0  \n",
              "4     4.0  \n",
              "\n",
              "[5 rows x 22 columns]"
            ]
          },
          "execution_count": 3,
          "metadata": {},
          "output_type": "execute_result"
        }
      ],
      "source": [
        "df.head(5)"
      ]
    },
    {
      "cell_type": "markdown",
      "metadata": {
        "id": "WA_pmRzPdRFp"
      },
      "source": [
        "Checking for any null values:"
      ]
    },
    {
      "cell_type": "code",
      "execution_count": null,
      "metadata": {
        "colab": {
          "base_uri": "https://localhost:8080/"
        },
        "id": "5Zx0Ukd-4De6",
        "outputId": "6ae192d9-c2be-4670-a4c6-749072a50526"
      },
      "outputs": [
        {
          "data": {
            "text/html": [
              "\n",
              "  <div id=\"df-4793a522-67ea-4d1e-9808-8aa18db331e1\">\n",
              "    <div class=\"colab-df-container\">\n",
              "      <div>\n",
              "<style scoped>\n",
              "    .dataframe tbody tr th:only-of-type {\n",
              "        vertical-align: middle;\n",
              "    }\n",
              "\n",
              "    .dataframe tbody tr th {\n",
              "        vertical-align: top;\n",
              "    }\n",
              "\n",
              "    .dataframe thead th {\n",
              "        text-align: right;\n",
              "    }\n",
              "</style>\n",
              "<table border=\"1\" class=\"dataframe\">\n",
              "  <thead>\n",
              "    <tr style=\"text-align: right;\">\n",
              "      <th></th>\n",
              "      <th>Diabetes_012</th>\n",
              "      <th>HighBP</th>\n",
              "      <th>HighChol</th>\n",
              "      <th>CholCheck</th>\n",
              "      <th>BMI</th>\n",
              "      <th>Smoker</th>\n",
              "      <th>Stroke</th>\n",
              "      <th>HeartDiseaseorAttack</th>\n",
              "      <th>PhysActivity</th>\n",
              "      <th>Fruits</th>\n",
              "      <th>...</th>\n",
              "      <th>AnyHealthcare</th>\n",
              "      <th>NoDocbcCost</th>\n",
              "      <th>GenHlth</th>\n",
              "      <th>MentHlth</th>\n",
              "      <th>PhysHlth</th>\n",
              "      <th>DiffWalk</th>\n",
              "      <th>Sex</th>\n",
              "      <th>Age</th>\n",
              "      <th>Education</th>\n",
              "      <th>Income</th>\n",
              "    </tr>\n",
              "  </thead>\n",
              "  <tbody>\n",
              "    <tr>\n",
              "      <th>0</th>\n",
              "      <td>False</td>\n",
              "      <td>False</td>\n",
              "      <td>False</td>\n",
              "      <td>False</td>\n",
              "      <td>False</td>\n",
              "      <td>False</td>\n",
              "      <td>False</td>\n",
              "      <td>False</td>\n",
              "      <td>False</td>\n",
              "      <td>False</td>\n",
              "      <td>...</td>\n",
              "      <td>False</td>\n",
              "      <td>False</td>\n",
              "      <td>False</td>\n",
              "      <td>False</td>\n",
              "      <td>False</td>\n",
              "      <td>False</td>\n",
              "      <td>False</td>\n",
              "      <td>False</td>\n",
              "      <td>False</td>\n",
              "      <td>False</td>\n",
              "    </tr>\n",
              "    <tr>\n",
              "      <th>1</th>\n",
              "      <td>False</td>\n",
              "      <td>False</td>\n",
              "      <td>False</td>\n",
              "      <td>False</td>\n",
              "      <td>False</td>\n",
              "      <td>False</td>\n",
              "      <td>False</td>\n",
              "      <td>False</td>\n",
              "      <td>False</td>\n",
              "      <td>False</td>\n",
              "      <td>...</td>\n",
              "      <td>False</td>\n",
              "      <td>False</td>\n",
              "      <td>False</td>\n",
              "      <td>False</td>\n",
              "      <td>False</td>\n",
              "      <td>False</td>\n",
              "      <td>False</td>\n",
              "      <td>False</td>\n",
              "      <td>False</td>\n",
              "      <td>False</td>\n",
              "    </tr>\n",
              "    <tr>\n",
              "      <th>2</th>\n",
              "      <td>False</td>\n",
              "      <td>False</td>\n",
              "      <td>False</td>\n",
              "      <td>False</td>\n",
              "      <td>False</td>\n",
              "      <td>False</td>\n",
              "      <td>False</td>\n",
              "      <td>False</td>\n",
              "      <td>False</td>\n",
              "      <td>False</td>\n",
              "      <td>...</td>\n",
              "      <td>False</td>\n",
              "      <td>False</td>\n",
              "      <td>False</td>\n",
              "      <td>False</td>\n",
              "      <td>False</td>\n",
              "      <td>False</td>\n",
              "      <td>False</td>\n",
              "      <td>False</td>\n",
              "      <td>False</td>\n",
              "      <td>False</td>\n",
              "    </tr>\n",
              "    <tr>\n",
              "      <th>3</th>\n",
              "      <td>False</td>\n",
              "      <td>False</td>\n",
              "      <td>False</td>\n",
              "      <td>False</td>\n",
              "      <td>False</td>\n",
              "      <td>False</td>\n",
              "      <td>False</td>\n",
              "      <td>False</td>\n",
              "      <td>False</td>\n",
              "      <td>False</td>\n",
              "      <td>...</td>\n",
              "      <td>False</td>\n",
              "      <td>False</td>\n",
              "      <td>False</td>\n",
              "      <td>False</td>\n",
              "      <td>False</td>\n",
              "      <td>False</td>\n",
              "      <td>False</td>\n",
              "      <td>False</td>\n",
              "      <td>False</td>\n",
              "      <td>False</td>\n",
              "    </tr>\n",
              "    <tr>\n",
              "      <th>4</th>\n",
              "      <td>False</td>\n",
              "      <td>False</td>\n",
              "      <td>False</td>\n",
              "      <td>False</td>\n",
              "      <td>False</td>\n",
              "      <td>False</td>\n",
              "      <td>False</td>\n",
              "      <td>False</td>\n",
              "      <td>False</td>\n",
              "      <td>False</td>\n",
              "      <td>...</td>\n",
              "      <td>False</td>\n",
              "      <td>False</td>\n",
              "      <td>False</td>\n",
              "      <td>False</td>\n",
              "      <td>False</td>\n",
              "      <td>False</td>\n",
              "      <td>False</td>\n",
              "      <td>False</td>\n",
              "      <td>False</td>\n",
              "      <td>False</td>\n",
              "    </tr>\n",
              "    <tr>\n",
              "      <th>...</th>\n",
              "      <td>...</td>\n",
              "      <td>...</td>\n",
              "      <td>...</td>\n",
              "      <td>...</td>\n",
              "      <td>...</td>\n",
              "      <td>...</td>\n",
              "      <td>...</td>\n",
              "      <td>...</td>\n",
              "      <td>...</td>\n",
              "      <td>...</td>\n",
              "      <td>...</td>\n",
              "      <td>...</td>\n",
              "      <td>...</td>\n",
              "      <td>...</td>\n",
              "      <td>...</td>\n",
              "      <td>...</td>\n",
              "      <td>...</td>\n",
              "      <td>...</td>\n",
              "      <td>...</td>\n",
              "      <td>...</td>\n",
              "      <td>...</td>\n",
              "    </tr>\n",
              "    <tr>\n",
              "      <th>253675</th>\n",
              "      <td>False</td>\n",
              "      <td>False</td>\n",
              "      <td>False</td>\n",
              "      <td>False</td>\n",
              "      <td>False</td>\n",
              "      <td>False</td>\n",
              "      <td>False</td>\n",
              "      <td>False</td>\n",
              "      <td>False</td>\n",
              "      <td>False</td>\n",
              "      <td>...</td>\n",
              "      <td>False</td>\n",
              "      <td>False</td>\n",
              "      <td>False</td>\n",
              "      <td>False</td>\n",
              "      <td>False</td>\n",
              "      <td>False</td>\n",
              "      <td>False</td>\n",
              "      <td>False</td>\n",
              "      <td>False</td>\n",
              "      <td>False</td>\n",
              "    </tr>\n",
              "    <tr>\n",
              "      <th>253676</th>\n",
              "      <td>False</td>\n",
              "      <td>False</td>\n",
              "      <td>False</td>\n",
              "      <td>False</td>\n",
              "      <td>False</td>\n",
              "      <td>False</td>\n",
              "      <td>False</td>\n",
              "      <td>False</td>\n",
              "      <td>False</td>\n",
              "      <td>False</td>\n",
              "      <td>...</td>\n",
              "      <td>False</td>\n",
              "      <td>False</td>\n",
              "      <td>False</td>\n",
              "      <td>False</td>\n",
              "      <td>False</td>\n",
              "      <td>False</td>\n",
              "      <td>False</td>\n",
              "      <td>False</td>\n",
              "      <td>False</td>\n",
              "      <td>False</td>\n",
              "    </tr>\n",
              "    <tr>\n",
              "      <th>253677</th>\n",
              "      <td>False</td>\n",
              "      <td>False</td>\n",
              "      <td>False</td>\n",
              "      <td>False</td>\n",
              "      <td>False</td>\n",
              "      <td>False</td>\n",
              "      <td>False</td>\n",
              "      <td>False</td>\n",
              "      <td>False</td>\n",
              "      <td>False</td>\n",
              "      <td>...</td>\n",
              "      <td>False</td>\n",
              "      <td>False</td>\n",
              "      <td>False</td>\n",
              "      <td>False</td>\n",
              "      <td>False</td>\n",
              "      <td>False</td>\n",
              "      <td>False</td>\n",
              "      <td>False</td>\n",
              "      <td>False</td>\n",
              "      <td>False</td>\n",
              "    </tr>\n",
              "    <tr>\n",
              "      <th>253678</th>\n",
              "      <td>False</td>\n",
              "      <td>False</td>\n",
              "      <td>False</td>\n",
              "      <td>False</td>\n",
              "      <td>False</td>\n",
              "      <td>False</td>\n",
              "      <td>False</td>\n",
              "      <td>False</td>\n",
              "      <td>False</td>\n",
              "      <td>False</td>\n",
              "      <td>...</td>\n",
              "      <td>False</td>\n",
              "      <td>False</td>\n",
              "      <td>False</td>\n",
              "      <td>False</td>\n",
              "      <td>False</td>\n",
              "      <td>False</td>\n",
              "      <td>False</td>\n",
              "      <td>False</td>\n",
              "      <td>False</td>\n",
              "      <td>False</td>\n",
              "    </tr>\n",
              "    <tr>\n",
              "      <th>253679</th>\n",
              "      <td>False</td>\n",
              "      <td>False</td>\n",
              "      <td>False</td>\n",
              "      <td>False</td>\n",
              "      <td>False</td>\n",
              "      <td>False</td>\n",
              "      <td>False</td>\n",
              "      <td>False</td>\n",
              "      <td>False</td>\n",
              "      <td>False</td>\n",
              "      <td>...</td>\n",
              "      <td>False</td>\n",
              "      <td>False</td>\n",
              "      <td>False</td>\n",
              "      <td>False</td>\n",
              "      <td>False</td>\n",
              "      <td>False</td>\n",
              "      <td>False</td>\n",
              "      <td>False</td>\n",
              "      <td>False</td>\n",
              "      <td>False</td>\n",
              "    </tr>\n",
              "  </tbody>\n",
              "</table>\n",
              "<p>253680 rows × 22 columns</p>\n",
              "</div>\n",
              "      <button class=\"colab-df-convert\" onclick=\"convertToInteractive('df-4793a522-67ea-4d1e-9808-8aa18db331e1')\"\n",
              "              title=\"Convert this dataframe to an interactive table.\"\n",
              "              style=\"display:none;\">\n",
              "        \n",
              "  <svg xmlns=\"http://www.w3.org/2000/svg\" height=\"24px\"viewBox=\"0 0 24 24\"\n",
              "       width=\"24px\">\n",
              "    <path d=\"M0 0h24v24H0V0z\" fill=\"none\"/>\n",
              "    <path d=\"M18.56 5.44l.94 2.06.94-2.06 2.06-.94-2.06-.94-.94-2.06-.94 2.06-2.06.94zm-11 1L8.5 8.5l.94-2.06 2.06-.94-2.06-.94L8.5 2.5l-.94 2.06-2.06.94zm10 10l.94 2.06.94-2.06 2.06-.94-2.06-.94-.94-2.06-.94 2.06-2.06.94z\"/><path d=\"M17.41 7.96l-1.37-1.37c-.4-.4-.92-.59-1.43-.59-.52 0-1.04.2-1.43.59L10.3 9.45l-7.72 7.72c-.78.78-.78 2.05 0 2.83L4 21.41c.39.39.9.59 1.41.59.51 0 1.02-.2 1.41-.59l7.78-7.78 2.81-2.81c.8-.78.8-2.07 0-2.86zM5.41 20L4 18.59l7.72-7.72 1.47 1.35L5.41 20z\"/>\n",
              "  </svg>\n",
              "      </button>\n",
              "      \n",
              "  <style>\n",
              "    .colab-df-container {\n",
              "      display:flex;\n",
              "      flex-wrap:wrap;\n",
              "      gap: 12px;\n",
              "    }\n",
              "\n",
              "    .colab-df-convert {\n",
              "      background-color: #E8F0FE;\n",
              "      border: none;\n",
              "      border-radius: 50%;\n",
              "      cursor: pointer;\n",
              "      display: none;\n",
              "      fill: #1967D2;\n",
              "      height: 32px;\n",
              "      padding: 0 0 0 0;\n",
              "      width: 32px;\n",
              "    }\n",
              "\n",
              "    .colab-df-convert:hover {\n",
              "      background-color: #E2EBFA;\n",
              "      box-shadow: 0px 1px 2px rgba(60, 64, 67, 0.3), 0px 1px 3px 1px rgba(60, 64, 67, 0.15);\n",
              "      fill: #174EA6;\n",
              "    }\n",
              "\n",
              "    [theme=dark] .colab-df-convert {\n",
              "      background-color: #3B4455;\n",
              "      fill: #D2E3FC;\n",
              "    }\n",
              "\n",
              "    [theme=dark] .colab-df-convert:hover {\n",
              "      background-color: #434B5C;\n",
              "      box-shadow: 0px 1px 3px 1px rgba(0, 0, 0, 0.15);\n",
              "      filter: drop-shadow(0px 1px 2px rgba(0, 0, 0, 0.3));\n",
              "      fill: #FFFFFF;\n",
              "    }\n",
              "  </style>\n",
              "\n",
              "      <script>\n",
              "        const buttonEl =\n",
              "          document.querySelector('#df-4793a522-67ea-4d1e-9808-8aa18db331e1 button.colab-df-convert');\n",
              "        buttonEl.style.display =\n",
              "          google.colab.kernel.accessAllowed ? 'block' : 'none';\n",
              "\n",
              "        async function convertToInteractive(key) {\n",
              "          const element = document.querySelector('#df-4793a522-67ea-4d1e-9808-8aa18db331e1');\n",
              "          const dataTable =\n",
              "            await google.colab.kernel.invokeFunction('convertToInteractive',\n",
              "                                                     [key], {});\n",
              "          if (!dataTable) return;\n",
              "\n",
              "          const docLinkHtml = 'Like what you see? Visit the ' +\n",
              "            '<a target=\"_blank\" href=https://colab.research.google.com/notebooks/data_table.ipynb>data table notebook</a>'\n",
              "            + ' to learn more about interactive tables.';\n",
              "          element.innerHTML = '';\n",
              "          dataTable['output_type'] = 'display_data';\n",
              "          await google.colab.output.renderOutput(dataTable, element);\n",
              "          const docLink = document.createElement('div');\n",
              "          docLink.innerHTML = docLinkHtml;\n",
              "          element.appendChild(docLink);\n",
              "        }\n",
              "      </script>\n",
              "    </div>\n",
              "  </div>\n",
              "  "
            ],
            "text/plain": [
              "        Diabetes_012  HighBP  HighChol  CholCheck    BMI  Smoker  Stroke  \\\n",
              "0              False   False     False      False  False   False   False   \n",
              "1              False   False     False      False  False   False   False   \n",
              "2              False   False     False      False  False   False   False   \n",
              "3              False   False     False      False  False   False   False   \n",
              "4              False   False     False      False  False   False   False   \n",
              "...              ...     ...       ...        ...    ...     ...     ...   \n",
              "253675         False   False     False      False  False   False   False   \n",
              "253676         False   False     False      False  False   False   False   \n",
              "253677         False   False     False      False  False   False   False   \n",
              "253678         False   False     False      False  False   False   False   \n",
              "253679         False   False     False      False  False   False   False   \n",
              "\n",
              "        HeartDiseaseorAttack  PhysActivity  Fruits  ...  AnyHealthcare  \\\n",
              "0                      False         False   False  ...          False   \n",
              "1                      False         False   False  ...          False   \n",
              "2                      False         False   False  ...          False   \n",
              "3                      False         False   False  ...          False   \n",
              "4                      False         False   False  ...          False   \n",
              "...                      ...           ...     ...  ...            ...   \n",
              "253675                 False         False   False  ...          False   \n",
              "253676                 False         False   False  ...          False   \n",
              "253677                 False         False   False  ...          False   \n",
              "253678                 False         False   False  ...          False   \n",
              "253679                 False         False   False  ...          False   \n",
              "\n",
              "        NoDocbcCost  GenHlth  MentHlth  PhysHlth  DiffWalk    Sex    Age  \\\n",
              "0             False    False     False     False     False  False  False   \n",
              "1             False    False     False     False     False  False  False   \n",
              "2             False    False     False     False     False  False  False   \n",
              "3             False    False     False     False     False  False  False   \n",
              "4             False    False     False     False     False  False  False   \n",
              "...             ...      ...       ...       ...       ...    ...    ...   \n",
              "253675        False    False     False     False     False  False  False   \n",
              "253676        False    False     False     False     False  False  False   \n",
              "253677        False    False     False     False     False  False  False   \n",
              "253678        False    False     False     False     False  False  False   \n",
              "253679        False    False     False     False     False  False  False   \n",
              "\n",
              "        Education  Income  \n",
              "0           False   False  \n",
              "1           False   False  \n",
              "2           False   False  \n",
              "3           False   False  \n",
              "4           False   False  \n",
              "...           ...     ...  \n",
              "253675      False   False  \n",
              "253676      False   False  \n",
              "253677      False   False  \n",
              "253678      False   False  \n",
              "253679      False   False  \n",
              "\n",
              "[253680 rows x 22 columns]"
            ]
          },
          "execution_count": 4,
          "metadata": {},
          "output_type": "execute_result"
        }
      ],
      "source": [
        "df.isna()"
      ]
    },
    {
      "cell_type": "code",
      "execution_count": null,
      "metadata": {
        "colab": {
          "base_uri": "https://localhost:8080/"
        },
        "id": "XAXtjsjr4GW8",
        "outputId": "208831cc-bbd4-4cf2-8a55-4479a574d9d7"
      },
      "outputs": [
        {
          "name": "stdout",
          "output_type": "stream",
          "text": [
            "<class 'pandas.core.frame.DataFrame'>\n",
            "RangeIndex: 253680 entries, 0 to 253679\n",
            "Data columns (total 22 columns):\n",
            " #   Column                Non-Null Count   Dtype  \n",
            "---  ------                --------------   -----  \n",
            " 0   Diabetes_012          253680 non-null  float64\n",
            " 1   HighBP                253680 non-null  float64\n",
            " 2   HighChol              253680 non-null  float64\n",
            " 3   CholCheck             253680 non-null  float64\n",
            " 4   BMI                   253680 non-null  float64\n",
            " 5   Smoker                253680 non-null  float64\n",
            " 6   Stroke                253680 non-null  float64\n",
            " 7   HeartDiseaseorAttack  253680 non-null  float64\n",
            " 8   PhysActivity          253680 non-null  float64\n",
            " 9   Fruits                253680 non-null  float64\n",
            " 10  Veggies               253680 non-null  float64\n",
            " 11  HvyAlcoholConsump     253680 non-null  float64\n",
            " 12  AnyHealthcare         253680 non-null  float64\n",
            " 13  NoDocbcCost           253680 non-null  float64\n",
            " 14  GenHlth               253680 non-null  float64\n",
            " 15  MentHlth              253680 non-null  float64\n",
            " 16  PhysHlth              253680 non-null  float64\n",
            " 17  DiffWalk              253680 non-null  float64\n",
            " 18  Sex                   253680 non-null  float64\n",
            " 19  Age                   253680 non-null  float64\n",
            " 20  Education             253680 non-null  float64\n",
            " 21  Income                253680 non-null  float64\n",
            "dtypes: float64(22)\n",
            "memory usage: 42.6 MB\n"
          ]
        }
      ],
      "source": [
        "df.info()"
      ]
    },
    {
      "cell_type": "markdown",
      "metadata": {
        "id": "lT7Or5TndaJm"
      },
      "source": [
        "Checking some general statistics:"
      ]
    },
    {
      "cell_type": "code",
      "execution_count": null,
      "metadata": {
        "colab": {
          "base_uri": "https://localhost:8080/"
        },
        "id": "uWRsAIS54L5N",
        "outputId": "3266bfc8-c39f-4393-a9b9-b5ee4047e968"
      },
      "outputs": [
        {
          "data": {
            "text/html": [
              "\n",
              "  <div id=\"df-2e9bd833-05df-46e0-af45-386217d9fcb3\">\n",
              "    <div class=\"colab-df-container\">\n",
              "      <div>\n",
              "<style scoped>\n",
              "    .dataframe tbody tr th:only-of-type {\n",
              "        vertical-align: middle;\n",
              "    }\n",
              "\n",
              "    .dataframe tbody tr th {\n",
              "        vertical-align: top;\n",
              "    }\n",
              "\n",
              "    .dataframe thead th {\n",
              "        text-align: right;\n",
              "    }\n",
              "</style>\n",
              "<table border=\"1\" class=\"dataframe\">\n",
              "  <thead>\n",
              "    <tr style=\"text-align: right;\">\n",
              "      <th></th>\n",
              "      <th>Diabetes_012</th>\n",
              "      <th>HighBP</th>\n",
              "      <th>HighChol</th>\n",
              "      <th>CholCheck</th>\n",
              "      <th>BMI</th>\n",
              "      <th>Smoker</th>\n",
              "      <th>Stroke</th>\n",
              "      <th>HeartDiseaseorAttack</th>\n",
              "      <th>PhysActivity</th>\n",
              "      <th>Fruits</th>\n",
              "      <th>...</th>\n",
              "      <th>AnyHealthcare</th>\n",
              "      <th>NoDocbcCost</th>\n",
              "      <th>GenHlth</th>\n",
              "      <th>MentHlth</th>\n",
              "      <th>PhysHlth</th>\n",
              "      <th>DiffWalk</th>\n",
              "      <th>Sex</th>\n",
              "      <th>Age</th>\n",
              "      <th>Education</th>\n",
              "      <th>Income</th>\n",
              "    </tr>\n",
              "  </thead>\n",
              "  <tbody>\n",
              "    <tr>\n",
              "      <th>count</th>\n",
              "      <td>253680.000000</td>\n",
              "      <td>253680.000000</td>\n",
              "      <td>253680.000000</td>\n",
              "      <td>253680.000000</td>\n",
              "      <td>253680.000000</td>\n",
              "      <td>253680.000000</td>\n",
              "      <td>253680.000000</td>\n",
              "      <td>253680.000000</td>\n",
              "      <td>253680.000000</td>\n",
              "      <td>253680.000000</td>\n",
              "      <td>...</td>\n",
              "      <td>253680.000000</td>\n",
              "      <td>253680.000000</td>\n",
              "      <td>253680.000000</td>\n",
              "      <td>253680.000000</td>\n",
              "      <td>253680.000000</td>\n",
              "      <td>253680.000000</td>\n",
              "      <td>253680.000000</td>\n",
              "      <td>253680.000000</td>\n",
              "      <td>253680.000000</td>\n",
              "      <td>253680.000000</td>\n",
              "    </tr>\n",
              "    <tr>\n",
              "      <th>mean</th>\n",
              "      <td>0.296921</td>\n",
              "      <td>0.429001</td>\n",
              "      <td>0.424121</td>\n",
              "      <td>0.962670</td>\n",
              "      <td>28.382364</td>\n",
              "      <td>0.443169</td>\n",
              "      <td>0.040571</td>\n",
              "      <td>0.094186</td>\n",
              "      <td>0.756544</td>\n",
              "      <td>0.634256</td>\n",
              "      <td>...</td>\n",
              "      <td>0.951053</td>\n",
              "      <td>0.084177</td>\n",
              "      <td>2.511392</td>\n",
              "      <td>3.184772</td>\n",
              "      <td>4.242081</td>\n",
              "      <td>0.168224</td>\n",
              "      <td>0.440342</td>\n",
              "      <td>8.032119</td>\n",
              "      <td>5.050434</td>\n",
              "      <td>6.053875</td>\n",
              "    </tr>\n",
              "    <tr>\n",
              "      <th>std</th>\n",
              "      <td>0.698160</td>\n",
              "      <td>0.494934</td>\n",
              "      <td>0.494210</td>\n",
              "      <td>0.189571</td>\n",
              "      <td>6.608694</td>\n",
              "      <td>0.496761</td>\n",
              "      <td>0.197294</td>\n",
              "      <td>0.292087</td>\n",
              "      <td>0.429169</td>\n",
              "      <td>0.481639</td>\n",
              "      <td>...</td>\n",
              "      <td>0.215759</td>\n",
              "      <td>0.277654</td>\n",
              "      <td>1.068477</td>\n",
              "      <td>7.412847</td>\n",
              "      <td>8.717951</td>\n",
              "      <td>0.374066</td>\n",
              "      <td>0.496429</td>\n",
              "      <td>3.054220</td>\n",
              "      <td>0.985774</td>\n",
              "      <td>2.071148</td>\n",
              "    </tr>\n",
              "    <tr>\n",
              "      <th>min</th>\n",
              "      <td>0.000000</td>\n",
              "      <td>0.000000</td>\n",
              "      <td>0.000000</td>\n",
              "      <td>0.000000</td>\n",
              "      <td>12.000000</td>\n",
              "      <td>0.000000</td>\n",
              "      <td>0.000000</td>\n",
              "      <td>0.000000</td>\n",
              "      <td>0.000000</td>\n",
              "      <td>0.000000</td>\n",
              "      <td>...</td>\n",
              "      <td>0.000000</td>\n",
              "      <td>0.000000</td>\n",
              "      <td>1.000000</td>\n",
              "      <td>0.000000</td>\n",
              "      <td>0.000000</td>\n",
              "      <td>0.000000</td>\n",
              "      <td>0.000000</td>\n",
              "      <td>1.000000</td>\n",
              "      <td>1.000000</td>\n",
              "      <td>1.000000</td>\n",
              "    </tr>\n",
              "    <tr>\n",
              "      <th>25%</th>\n",
              "      <td>0.000000</td>\n",
              "      <td>0.000000</td>\n",
              "      <td>0.000000</td>\n",
              "      <td>1.000000</td>\n",
              "      <td>24.000000</td>\n",
              "      <td>0.000000</td>\n",
              "      <td>0.000000</td>\n",
              "      <td>0.000000</td>\n",
              "      <td>1.000000</td>\n",
              "      <td>0.000000</td>\n",
              "      <td>...</td>\n",
              "      <td>1.000000</td>\n",
              "      <td>0.000000</td>\n",
              "      <td>2.000000</td>\n",
              "      <td>0.000000</td>\n",
              "      <td>0.000000</td>\n",
              "      <td>0.000000</td>\n",
              "      <td>0.000000</td>\n",
              "      <td>6.000000</td>\n",
              "      <td>4.000000</td>\n",
              "      <td>5.000000</td>\n",
              "    </tr>\n",
              "    <tr>\n",
              "      <th>50%</th>\n",
              "      <td>0.000000</td>\n",
              "      <td>0.000000</td>\n",
              "      <td>0.000000</td>\n",
              "      <td>1.000000</td>\n",
              "      <td>27.000000</td>\n",
              "      <td>0.000000</td>\n",
              "      <td>0.000000</td>\n",
              "      <td>0.000000</td>\n",
              "      <td>1.000000</td>\n",
              "      <td>1.000000</td>\n",
              "      <td>...</td>\n",
              "      <td>1.000000</td>\n",
              "      <td>0.000000</td>\n",
              "      <td>2.000000</td>\n",
              "      <td>0.000000</td>\n",
              "      <td>0.000000</td>\n",
              "      <td>0.000000</td>\n",
              "      <td>0.000000</td>\n",
              "      <td>8.000000</td>\n",
              "      <td>5.000000</td>\n",
              "      <td>7.000000</td>\n",
              "    </tr>\n",
              "    <tr>\n",
              "      <th>75%</th>\n",
              "      <td>0.000000</td>\n",
              "      <td>1.000000</td>\n",
              "      <td>1.000000</td>\n",
              "      <td>1.000000</td>\n",
              "      <td>31.000000</td>\n",
              "      <td>1.000000</td>\n",
              "      <td>0.000000</td>\n",
              "      <td>0.000000</td>\n",
              "      <td>1.000000</td>\n",
              "      <td>1.000000</td>\n",
              "      <td>...</td>\n",
              "      <td>1.000000</td>\n",
              "      <td>0.000000</td>\n",
              "      <td>3.000000</td>\n",
              "      <td>2.000000</td>\n",
              "      <td>3.000000</td>\n",
              "      <td>0.000000</td>\n",
              "      <td>1.000000</td>\n",
              "      <td>10.000000</td>\n",
              "      <td>6.000000</td>\n",
              "      <td>8.000000</td>\n",
              "    </tr>\n",
              "    <tr>\n",
              "      <th>max</th>\n",
              "      <td>2.000000</td>\n",
              "      <td>1.000000</td>\n",
              "      <td>1.000000</td>\n",
              "      <td>1.000000</td>\n",
              "      <td>98.000000</td>\n",
              "      <td>1.000000</td>\n",
              "      <td>1.000000</td>\n",
              "      <td>1.000000</td>\n",
              "      <td>1.000000</td>\n",
              "      <td>1.000000</td>\n",
              "      <td>...</td>\n",
              "      <td>1.000000</td>\n",
              "      <td>1.000000</td>\n",
              "      <td>5.000000</td>\n",
              "      <td>30.000000</td>\n",
              "      <td>30.000000</td>\n",
              "      <td>1.000000</td>\n",
              "      <td>1.000000</td>\n",
              "      <td>13.000000</td>\n",
              "      <td>6.000000</td>\n",
              "      <td>8.000000</td>\n",
              "    </tr>\n",
              "  </tbody>\n",
              "</table>\n",
              "<p>8 rows × 22 columns</p>\n",
              "</div>\n",
              "      <button class=\"colab-df-convert\" onclick=\"convertToInteractive('df-2e9bd833-05df-46e0-af45-386217d9fcb3')\"\n",
              "              title=\"Convert this dataframe to an interactive table.\"\n",
              "              style=\"display:none;\">\n",
              "        \n",
              "  <svg xmlns=\"http://www.w3.org/2000/svg\" height=\"24px\"viewBox=\"0 0 24 24\"\n",
              "       width=\"24px\">\n",
              "    <path d=\"M0 0h24v24H0V0z\" fill=\"none\"/>\n",
              "    <path d=\"M18.56 5.44l.94 2.06.94-2.06 2.06-.94-2.06-.94-.94-2.06-.94 2.06-2.06.94zm-11 1L8.5 8.5l.94-2.06 2.06-.94-2.06-.94L8.5 2.5l-.94 2.06-2.06.94zm10 10l.94 2.06.94-2.06 2.06-.94-2.06-.94-.94-2.06-.94 2.06-2.06.94z\"/><path d=\"M17.41 7.96l-1.37-1.37c-.4-.4-.92-.59-1.43-.59-.52 0-1.04.2-1.43.59L10.3 9.45l-7.72 7.72c-.78.78-.78 2.05 0 2.83L4 21.41c.39.39.9.59 1.41.59.51 0 1.02-.2 1.41-.59l7.78-7.78 2.81-2.81c.8-.78.8-2.07 0-2.86zM5.41 20L4 18.59l7.72-7.72 1.47 1.35L5.41 20z\"/>\n",
              "  </svg>\n",
              "      </button>\n",
              "      \n",
              "  <style>\n",
              "    .colab-df-container {\n",
              "      display:flex;\n",
              "      flex-wrap:wrap;\n",
              "      gap: 12px;\n",
              "    }\n",
              "\n",
              "    .colab-df-convert {\n",
              "      background-color: #E8F0FE;\n",
              "      border: none;\n",
              "      border-radius: 50%;\n",
              "      cursor: pointer;\n",
              "      display: none;\n",
              "      fill: #1967D2;\n",
              "      height: 32px;\n",
              "      padding: 0 0 0 0;\n",
              "      width: 32px;\n",
              "    }\n",
              "\n",
              "    .colab-df-convert:hover {\n",
              "      background-color: #E2EBFA;\n",
              "      box-shadow: 0px 1px 2px rgba(60, 64, 67, 0.3), 0px 1px 3px 1px rgba(60, 64, 67, 0.15);\n",
              "      fill: #174EA6;\n",
              "    }\n",
              "\n",
              "    [theme=dark] .colab-df-convert {\n",
              "      background-color: #3B4455;\n",
              "      fill: #D2E3FC;\n",
              "    }\n",
              "\n",
              "    [theme=dark] .colab-df-convert:hover {\n",
              "      background-color: #434B5C;\n",
              "      box-shadow: 0px 1px 3px 1px rgba(0, 0, 0, 0.15);\n",
              "      filter: drop-shadow(0px 1px 2px rgba(0, 0, 0, 0.3));\n",
              "      fill: #FFFFFF;\n",
              "    }\n",
              "  </style>\n",
              "\n",
              "      <script>\n",
              "        const buttonEl =\n",
              "          document.querySelector('#df-2e9bd833-05df-46e0-af45-386217d9fcb3 button.colab-df-convert');\n",
              "        buttonEl.style.display =\n",
              "          google.colab.kernel.accessAllowed ? 'block' : 'none';\n",
              "\n",
              "        async function convertToInteractive(key) {\n",
              "          const element = document.querySelector('#df-2e9bd833-05df-46e0-af45-386217d9fcb3');\n",
              "          const dataTable =\n",
              "            await google.colab.kernel.invokeFunction('convertToInteractive',\n",
              "                                                     [key], {});\n",
              "          if (!dataTable) return;\n",
              "\n",
              "          const docLinkHtml = 'Like what you see? Visit the ' +\n",
              "            '<a target=\"_blank\" href=https://colab.research.google.com/notebooks/data_table.ipynb>data table notebook</a>'\n",
              "            + ' to learn more about interactive tables.';\n",
              "          element.innerHTML = '';\n",
              "          dataTable['output_type'] = 'display_data';\n",
              "          await google.colab.output.renderOutput(dataTable, element);\n",
              "          const docLink = document.createElement('div');\n",
              "          docLink.innerHTML = docLinkHtml;\n",
              "          element.appendChild(docLink);\n",
              "        }\n",
              "      </script>\n",
              "    </div>\n",
              "  </div>\n",
              "  "
            ],
            "text/plain": [
              "        Diabetes_012         HighBP       HighChol      CholCheck  \\\n",
              "count  253680.000000  253680.000000  253680.000000  253680.000000   \n",
              "mean        0.296921       0.429001       0.424121       0.962670   \n",
              "std         0.698160       0.494934       0.494210       0.189571   \n",
              "min         0.000000       0.000000       0.000000       0.000000   \n",
              "25%         0.000000       0.000000       0.000000       1.000000   \n",
              "50%         0.000000       0.000000       0.000000       1.000000   \n",
              "75%         0.000000       1.000000       1.000000       1.000000   \n",
              "max         2.000000       1.000000       1.000000       1.000000   \n",
              "\n",
              "                 BMI         Smoker         Stroke  HeartDiseaseorAttack  \\\n",
              "count  253680.000000  253680.000000  253680.000000         253680.000000   \n",
              "mean       28.382364       0.443169       0.040571              0.094186   \n",
              "std         6.608694       0.496761       0.197294              0.292087   \n",
              "min        12.000000       0.000000       0.000000              0.000000   \n",
              "25%        24.000000       0.000000       0.000000              0.000000   \n",
              "50%        27.000000       0.000000       0.000000              0.000000   \n",
              "75%        31.000000       1.000000       0.000000              0.000000   \n",
              "max        98.000000       1.000000       1.000000              1.000000   \n",
              "\n",
              "        PhysActivity         Fruits  ...  AnyHealthcare    NoDocbcCost  \\\n",
              "count  253680.000000  253680.000000  ...  253680.000000  253680.000000   \n",
              "mean        0.756544       0.634256  ...       0.951053       0.084177   \n",
              "std         0.429169       0.481639  ...       0.215759       0.277654   \n",
              "min         0.000000       0.000000  ...       0.000000       0.000000   \n",
              "25%         1.000000       0.000000  ...       1.000000       0.000000   \n",
              "50%         1.000000       1.000000  ...       1.000000       0.000000   \n",
              "75%         1.000000       1.000000  ...       1.000000       0.000000   \n",
              "max         1.000000       1.000000  ...       1.000000       1.000000   \n",
              "\n",
              "             GenHlth       MentHlth       PhysHlth       DiffWalk  \\\n",
              "count  253680.000000  253680.000000  253680.000000  253680.000000   \n",
              "mean        2.511392       3.184772       4.242081       0.168224   \n",
              "std         1.068477       7.412847       8.717951       0.374066   \n",
              "min         1.000000       0.000000       0.000000       0.000000   \n",
              "25%         2.000000       0.000000       0.000000       0.000000   \n",
              "50%         2.000000       0.000000       0.000000       0.000000   \n",
              "75%         3.000000       2.000000       3.000000       0.000000   \n",
              "max         5.000000      30.000000      30.000000       1.000000   \n",
              "\n",
              "                 Sex            Age      Education         Income  \n",
              "count  253680.000000  253680.000000  253680.000000  253680.000000  \n",
              "mean        0.440342       8.032119       5.050434       6.053875  \n",
              "std         0.496429       3.054220       0.985774       2.071148  \n",
              "min         0.000000       1.000000       1.000000       1.000000  \n",
              "25%         0.000000       6.000000       4.000000       5.000000  \n",
              "50%         0.000000       8.000000       5.000000       7.000000  \n",
              "75%         1.000000      10.000000       6.000000       8.000000  \n",
              "max         1.000000      13.000000       6.000000       8.000000  \n",
              "\n",
              "[8 rows x 22 columns]"
            ]
          },
          "execution_count": 6,
          "metadata": {},
          "output_type": "execute_result"
        }
      ],
      "source": [
        "df.describe()"
      ]
    },
    {
      "cell_type": "markdown",
      "metadata": {
        "id": "ng6TG20Yddfr"
      },
      "source": [
        "Viewing the number of rows and columns from original dataset:"
      ]
    },
    {
      "cell_type": "code",
      "execution_count": null,
      "metadata": {
        "colab": {
          "base_uri": "https://localhost:8080/"
        },
        "id": "7PBYbphW4PU_",
        "outputId": "fa45f56e-76ed-4eff-ffa6-e77ba4e97378"
      },
      "outputs": [
        {
          "data": {
            "text/plain": [
              "(253680, 22)"
            ]
          },
          "execution_count": 7,
          "metadata": {},
          "output_type": "execute_result"
        }
      ],
      "source": [
        "df.shape"
      ]
    },
    {
      "cell_type": "markdown",
      "metadata": {
        "id": "XDAzdrB_oCMx"
      },
      "source": [
        "# 5.Visualizations\n",
        "\n",
        "The visualizations we have shown below presents a comprehensive idea of what our dataset is about, helping the user understand it further. With the three categories of Diabetes, Pre Diabetes and people without diabetes as presented by CDC, we have several interesting insights shown below. \n",
        "\n",
        "The following is an insight that helps us visually explain the divide that exists in the dataset. This insight is significant as it helps us understand the imbalance that exists in this dataset, and as we move down further in the notebook, we have worked on the imbalancing of this dataset. For that, multiple methods came to mind (discussed below) but the ones that stood out in our preperation and discussion were `NearMiss` and `SMOTE`. "
      ]
    },
    {
      "cell_type": "code",
      "execution_count": null,
      "metadata": {
        "colab": {
          "base_uri": "https://localhost:8080/"
        },
        "id": "ioXvrrzW8K-P",
        "outputId": "796b5323-1e54-4b09-9536-20ec06f3d4bd"
      },
      "outputs": [
        {
          "data": {
            "image/png": "[encoded data removed]",
            "text/plain": [
              "<Figure size 432x288 with 1 Axes>"
            ]
          },
          "metadata": {},
          "output_type": "display_data"
        }
      ],
      "source": [
        "y = np.array([84,2, 14])\n",
        "mylabels = [\"No diabetes\", \"Pre-diabetes\", \"Full diabetes\"]\n",
        "mycolors = [\"grey\",\"red\",\"blue\"]\n",
        "plt.pie(y, labels = mylabels, colors = mycolors)\n",
        "plt.title(\"Types of Diabetes\",fontsize=16)\n",
        "plt.show()"
      ]
    },
    {
      "cell_type": "markdown",
      "metadata": {
        "id": "_9ekDzUFfrdH"
      },
      "source": [
        "From the pie chart above, we can start seeing that our original dataset has moderate class imbalance, about 16%."
      ]
    },
    {
      "cell_type": "markdown",
      "metadata": {
        "id": "PhdzH89UWHKh"
      },
      "source": [
        "Similar to how most visualizations take place, a correlation took place here. However, as seen here and which can be depicted by the code of the heat map shown below, the correlations are not that strong. This is due to the nature of the dataset which is dominantly categorical variables. "
      ]
    },
    {
      "cell_type": "code",
      "execution_count": null,
      "metadata": {
        "colab": {
          "base_uri": "https://localhost:8080/"
        },
        "id": "clJx0hUcB29G",
        "outputId": "c515be2f-084e-41fc-e981-c5a6d9d54605"
      },
      "outputs": [
        {
          "data": {
            "text/html": [
              "\n",
              "  <div id=\"df-3d21359c-e478-4b75-af1a-4a6e86ff13e8\">\n",
              "    <div class=\"colab-df-container\">\n",
              "      <div>\n",
              "<style scoped>\n",
              "    .dataframe tbody tr th:only-of-type {\n",
              "        vertical-align: middle;\n",
              "    }\n",
              "\n",
              "    .dataframe tbody tr th {\n",
              "        vertical-align: top;\n",
              "    }\n",
              "\n",
              "    .dataframe thead th {\n",
              "        text-align: right;\n",
              "    }\n",
              "</style>\n",
              "<table border=\"1\" class=\"dataframe\">\n",
              "  <thead>\n",
              "    <tr style=\"text-align: right;\">\n",
              "      <th></th>\n",
              "      <th>Diabetes_012</th>\n",
              "      <th>HighBP</th>\n",
              "      <th>HighChol</th>\n",
              "      <th>CholCheck</th>\n",
              "      <th>BMI</th>\n",
              "      <th>Smoker</th>\n",
              "      <th>Stroke</th>\n",
              "      <th>HeartDiseaseorAttack</th>\n",
              "      <th>PhysActivity</th>\n",
              "      <th>Fruits</th>\n",
              "      <th>...</th>\n",
              "      <th>AnyHealthcare</th>\n",
              "      <th>NoDocbcCost</th>\n",
              "      <th>GenHlth</th>\n",
              "      <th>MentHlth</th>\n",
              "      <th>PhysHlth</th>\n",
              "      <th>DiffWalk</th>\n",
              "      <th>Sex</th>\n",
              "      <th>Age</th>\n",
              "      <th>Education</th>\n",
              "      <th>Income</th>\n",
              "    </tr>\n",
              "  </thead>\n",
              "  <tbody>\n",
              "    <tr>\n",
              "      <th>Diabetes_012</th>\n",
              "      <td>1.000000</td>\n",
              "      <td>0.271596</td>\n",
              "      <td>0.209085</td>\n",
              "      <td>0.067546</td>\n",
              "      <td>0.224379</td>\n",
              "      <td>0.062914</td>\n",
              "      <td>0.107179</td>\n",
              "      <td>0.180272</td>\n",
              "      <td>-0.121947</td>\n",
              "      <td>-0.042192</td>\n",
              "      <td>...</td>\n",
              "      <td>0.015410</td>\n",
              "      <td>0.035436</td>\n",
              "      <td>0.302587</td>\n",
              "      <td>0.073507</td>\n",
              "      <td>0.176287</td>\n",
              "      <td>0.224239</td>\n",
              "      <td>0.031040</td>\n",
              "      <td>0.185026</td>\n",
              "      <td>-0.130517</td>\n",
              "      <td>-0.171483</td>\n",
              "    </tr>\n",
              "    <tr>\n",
              "      <th>HighBP</th>\n",
              "      <td>0.271596</td>\n",
              "      <td>1.000000</td>\n",
              "      <td>0.298199</td>\n",
              "      <td>0.098508</td>\n",
              "      <td>0.213748</td>\n",
              "      <td>0.096991</td>\n",
              "      <td>0.129575</td>\n",
              "      <td>0.209361</td>\n",
              "      <td>-0.125267</td>\n",
              "      <td>-0.040555</td>\n",
              "      <td>...</td>\n",
              "      <td>0.038425</td>\n",
              "      <td>0.017358</td>\n",
              "      <td>0.300530</td>\n",
              "      <td>0.056456</td>\n",
              "      <td>0.161212</td>\n",
              "      <td>0.223618</td>\n",
              "      <td>0.052207</td>\n",
              "      <td>0.344452</td>\n",
              "      <td>-0.141358</td>\n",
              "      <td>-0.171235</td>\n",
              "    </tr>\n",
              "    <tr>\n",
              "      <th>HighChol</th>\n",
              "      <td>0.209085</td>\n",
              "      <td>0.298199</td>\n",
              "      <td>1.000000</td>\n",
              "      <td>0.085642</td>\n",
              "      <td>0.106722</td>\n",
              "      <td>0.091299</td>\n",
              "      <td>0.092620</td>\n",
              "      <td>0.180765</td>\n",
              "      <td>-0.078046</td>\n",
              "      <td>-0.040859</td>\n",
              "      <td>...</td>\n",
              "      <td>0.042230</td>\n",
              "      <td>0.013310</td>\n",
              "      <td>0.208426</td>\n",
              "      <td>0.062069</td>\n",
              "      <td>0.121751</td>\n",
              "      <td>0.144672</td>\n",
              "      <td>0.031205</td>\n",
              "      <td>0.272318</td>\n",
              "      <td>-0.070802</td>\n",
              "      <td>-0.085459</td>\n",
              "    </tr>\n",
              "    <tr>\n",
              "      <th>CholCheck</th>\n",
              "      <td>0.067546</td>\n",
              "      <td>0.098508</td>\n",
              "      <td>0.085642</td>\n",
              "      <td>1.000000</td>\n",
              "      <td>0.034495</td>\n",
              "      <td>-0.009929</td>\n",
              "      <td>0.024158</td>\n",
              "      <td>0.044206</td>\n",
              "      <td>0.004190</td>\n",
              "      <td>0.023849</td>\n",
              "      <td>...</td>\n",
              "      <td>0.117626</td>\n",
              "      <td>-0.058255</td>\n",
              "      <td>0.046589</td>\n",
              "      <td>-0.008366</td>\n",
              "      <td>0.031775</td>\n",
              "      <td>0.040585</td>\n",
              "      <td>-0.022115</td>\n",
              "      <td>0.090321</td>\n",
              "      <td>0.001510</td>\n",
              "      <td>0.014259</td>\n",
              "    </tr>\n",
              "    <tr>\n",
              "      <th>BMI</th>\n",
              "      <td>0.224379</td>\n",
              "      <td>0.213748</td>\n",
              "      <td>0.106722</td>\n",
              "      <td>0.034495</td>\n",
              "      <td>1.000000</td>\n",
              "      <td>0.013804</td>\n",
              "      <td>0.020153</td>\n",
              "      <td>0.052904</td>\n",
              "      <td>-0.147294</td>\n",
              "      <td>-0.087518</td>\n",
              "      <td>...</td>\n",
              "      <td>-0.018471</td>\n",
              "      <td>0.058206</td>\n",
              "      <td>0.239185</td>\n",
              "      <td>0.085310</td>\n",
              "      <td>0.121141</td>\n",
              "      <td>0.197078</td>\n",
              "      <td>0.042950</td>\n",
              "      <td>-0.036618</td>\n",
              "      <td>-0.103932</td>\n",
              "      <td>-0.100069</td>\n",
              "    </tr>\n",
              "    <tr>\n",
              "      <th>Smoker</th>\n",
              "      <td>0.062914</td>\n",
              "      <td>0.096991</td>\n",
              "      <td>0.091299</td>\n",
              "      <td>-0.009929</td>\n",
              "      <td>0.013804</td>\n",
              "      <td>1.000000</td>\n",
              "      <td>0.061173</td>\n",
              "      <td>0.114441</td>\n",
              "      <td>-0.087401</td>\n",
              "      <td>-0.077666</td>\n",
              "      <td>...</td>\n",
              "      <td>-0.023251</td>\n",
              "      <td>0.048946</td>\n",
              "      <td>0.163143</td>\n",
              "      <td>0.092196</td>\n",
              "      <td>0.116460</td>\n",
              "      <td>0.122463</td>\n",
              "      <td>0.093662</td>\n",
              "      <td>0.120641</td>\n",
              "      <td>-0.161955</td>\n",
              "      <td>-0.123937</td>\n",
              "    </tr>\n",
              "    <tr>\n",
              "      <th>Stroke</th>\n",
              "      <td>0.107179</td>\n",
              "      <td>0.129575</td>\n",
              "      <td>0.092620</td>\n",
              "      <td>0.024158</td>\n",
              "      <td>0.020153</td>\n",
              "      <td>0.061173</td>\n",
              "      <td>1.000000</td>\n",
              "      <td>0.203002</td>\n",
              "      <td>-0.069151</td>\n",
              "      <td>-0.013389</td>\n",
              "      <td>...</td>\n",
              "      <td>0.008776</td>\n",
              "      <td>0.034804</td>\n",
              "      <td>0.177942</td>\n",
              "      <td>0.070172</td>\n",
              "      <td>0.148944</td>\n",
              "      <td>0.176567</td>\n",
              "      <td>0.002978</td>\n",
              "      <td>0.126974</td>\n",
              "      <td>-0.076009</td>\n",
              "      <td>-0.128599</td>\n",
              "    </tr>\n",
              "    <tr>\n",
              "      <th>HeartDiseaseorAttack</th>\n",
              "      <td>0.180272</td>\n",
              "      <td>0.209361</td>\n",
              "      <td>0.180765</td>\n",
              "      <td>0.044206</td>\n",
              "      <td>0.052904</td>\n",
              "      <td>0.114441</td>\n",
              "      <td>0.203002</td>\n",
              "      <td>1.000000</td>\n",
              "      <td>-0.087299</td>\n",
              "      <td>-0.019790</td>\n",
              "      <td>...</td>\n",
              "      <td>0.018734</td>\n",
              "      <td>0.031000</td>\n",
              "      <td>0.258383</td>\n",
              "      <td>0.064621</td>\n",
              "      <td>0.181698</td>\n",
              "      <td>0.212709</td>\n",
              "      <td>0.086096</td>\n",
              "      <td>0.221618</td>\n",
              "      <td>-0.099600</td>\n",
              "      <td>-0.141011</td>\n",
              "    </tr>\n",
              "    <tr>\n",
              "      <th>PhysActivity</th>\n",
              "      <td>-0.121947</td>\n",
              "      <td>-0.125267</td>\n",
              "      <td>-0.078046</td>\n",
              "      <td>0.004190</td>\n",
              "      <td>-0.147294</td>\n",
              "      <td>-0.087401</td>\n",
              "      <td>-0.069151</td>\n",
              "      <td>-0.087299</td>\n",
              "      <td>1.000000</td>\n",
              "      <td>0.142756</td>\n",
              "      <td>...</td>\n",
              "      <td>0.035505</td>\n",
              "      <td>-0.061638</td>\n",
              "      <td>-0.266186</td>\n",
              "      <td>-0.125587</td>\n",
              "      <td>-0.219230</td>\n",
              "      <td>-0.253174</td>\n",
              "      <td>0.032482</td>\n",
              "      <td>-0.092511</td>\n",
              "      <td>0.199658</td>\n",
              "      <td>0.198539</td>\n",
              "    </tr>\n",
              "    <tr>\n",
              "      <th>Fruits</th>\n",
              "      <td>-0.042192</td>\n",
              "      <td>-0.040555</td>\n",
              "      <td>-0.040859</td>\n",
              "      <td>0.023849</td>\n",
              "      <td>-0.087518</td>\n",
              "      <td>-0.077666</td>\n",
              "      <td>-0.013389</td>\n",
              "      <td>-0.019790</td>\n",
              "      <td>0.142756</td>\n",
              "      <td>1.000000</td>\n",
              "      <td>...</td>\n",
              "      <td>0.031544</td>\n",
              "      <td>-0.044243</td>\n",
              "      <td>-0.103854</td>\n",
              "      <td>-0.068217</td>\n",
              "      <td>-0.044633</td>\n",
              "      <td>-0.048352</td>\n",
              "      <td>-0.091175</td>\n",
              "      <td>0.064547</td>\n",
              "      <td>0.110187</td>\n",
              "      <td>0.079929</td>\n",
              "    </tr>\n",
              "    <tr>\n",
              "      <th>Veggies</th>\n",
              "      <td>-0.058972</td>\n",
              "      <td>-0.061266</td>\n",
              "      <td>-0.039874</td>\n",
              "      <td>0.006121</td>\n",
              "      <td>-0.062275</td>\n",
              "      <td>-0.030678</td>\n",
              "      <td>-0.041124</td>\n",
              "      <td>-0.039167</td>\n",
              "      <td>0.153150</td>\n",
              "      <td>0.254342</td>\n",
              "      <td>...</td>\n",
              "      <td>0.029584</td>\n",
              "      <td>-0.032232</td>\n",
              "      <td>-0.123066</td>\n",
              "      <td>-0.058884</td>\n",
              "      <td>-0.064290</td>\n",
              "      <td>-0.080506</td>\n",
              "      <td>-0.064765</td>\n",
              "      <td>-0.009771</td>\n",
              "      <td>0.154329</td>\n",
              "      <td>0.151087</td>\n",
              "    </tr>\n",
              "    <tr>\n",
              "      <th>HvyAlcoholConsump</th>\n",
              "      <td>-0.057882</td>\n",
              "      <td>-0.003972</td>\n",
              "      <td>-0.011543</td>\n",
              "      <td>-0.023730</td>\n",
              "      <td>-0.048736</td>\n",
              "      <td>0.101619</td>\n",
              "      <td>-0.016950</td>\n",
              "      <td>-0.028991</td>\n",
              "      <td>0.012392</td>\n",
              "      <td>-0.035288</td>\n",
              "      <td>...</td>\n",
              "      <td>-0.010488</td>\n",
              "      <td>0.004684</td>\n",
              "      <td>-0.036724</td>\n",
              "      <td>0.024716</td>\n",
              "      <td>-0.026415</td>\n",
              "      <td>-0.037668</td>\n",
              "      <td>0.005740</td>\n",
              "      <td>-0.034578</td>\n",
              "      <td>0.023997</td>\n",
              "      <td>0.053619</td>\n",
              "    </tr>\n",
              "    <tr>\n",
              "      <th>AnyHealthcare</th>\n",
              "      <td>0.015410</td>\n",
              "      <td>0.038425</td>\n",
              "      <td>0.042230</td>\n",
              "      <td>0.117626</td>\n",
              "      <td>-0.018471</td>\n",
              "      <td>-0.023251</td>\n",
              "      <td>0.008776</td>\n",
              "      <td>0.018734</td>\n",
              "      <td>0.035505</td>\n",
              "      <td>0.031544</td>\n",
              "      <td>...</td>\n",
              "      <td>1.000000</td>\n",
              "      <td>-0.232532</td>\n",
              "      <td>-0.040817</td>\n",
              "      <td>-0.052707</td>\n",
              "      <td>-0.008276</td>\n",
              "      <td>0.007074</td>\n",
              "      <td>-0.019405</td>\n",
              "      <td>0.138046</td>\n",
              "      <td>0.122514</td>\n",
              "      <td>0.157999</td>\n",
              "    </tr>\n",
              "    <tr>\n",
              "      <th>NoDocbcCost</th>\n",
              "      <td>0.035436</td>\n",
              "      <td>0.017358</td>\n",
              "      <td>0.013310</td>\n",
              "      <td>-0.058255</td>\n",
              "      <td>0.058206</td>\n",
              "      <td>0.048946</td>\n",
              "      <td>0.034804</td>\n",
              "      <td>0.031000</td>\n",
              "      <td>-0.061638</td>\n",
              "      <td>-0.044243</td>\n",
              "      <td>...</td>\n",
              "      <td>-0.232532</td>\n",
              "      <td>1.000000</td>\n",
              "      <td>0.166397</td>\n",
              "      <td>0.192107</td>\n",
              "      <td>0.148998</td>\n",
              "      <td>0.118447</td>\n",
              "      <td>-0.044931</td>\n",
              "      <td>-0.119777</td>\n",
              "      <td>-0.100701</td>\n",
              "      <td>-0.203182</td>\n",
              "    </tr>\n",
              "    <tr>\n",
              "      <th>GenHlth</th>\n",
              "      <td>0.302587</td>\n",
              "      <td>0.300530</td>\n",
              "      <td>0.208426</td>\n",
              "      <td>0.046589</td>\n",
              "      <td>0.239185</td>\n",
              "      <td>0.163143</td>\n",
              "      <td>0.177942</td>\n",
              "      <td>0.258383</td>\n",
              "      <td>-0.266186</td>\n",
              "      <td>-0.103854</td>\n",
              "      <td>...</td>\n",
              "      <td>-0.040817</td>\n",
              "      <td>0.166397</td>\n",
              "      <td>1.000000</td>\n",
              "      <td>0.301674</td>\n",
              "      <td>0.524364</td>\n",
              "      <td>0.456920</td>\n",
              "      <td>-0.006091</td>\n",
              "      <td>0.152450</td>\n",
              "      <td>-0.284912</td>\n",
              "      <td>-0.370014</td>\n",
              "    </tr>\n",
              "    <tr>\n",
              "      <th>MentHlth</th>\n",
              "      <td>0.073507</td>\n",
              "      <td>0.056456</td>\n",
              "      <td>0.062069</td>\n",
              "      <td>-0.008366</td>\n",
              "      <td>0.085310</td>\n",
              "      <td>0.092196</td>\n",
              "      <td>0.070172</td>\n",
              "      <td>0.064621</td>\n",
              "      <td>-0.125587</td>\n",
              "      <td>-0.068217</td>\n",
              "      <td>...</td>\n",
              "      <td>-0.052707</td>\n",
              "      <td>0.192107</td>\n",
              "      <td>0.301674</td>\n",
              "      <td>1.000000</td>\n",
              "      <td>0.353619</td>\n",
              "      <td>0.233688</td>\n",
              "      <td>-0.080705</td>\n",
              "      <td>-0.092068</td>\n",
              "      <td>-0.101830</td>\n",
              "      <td>-0.209806</td>\n",
              "    </tr>\n",
              "    <tr>\n",
              "      <th>PhysHlth</th>\n",
              "      <td>0.176287</td>\n",
              "      <td>0.161212</td>\n",
              "      <td>0.121751</td>\n",
              "      <td>0.031775</td>\n",
              "      <td>0.121141</td>\n",
              "      <td>0.116460</td>\n",
              "      <td>0.148944</td>\n",
              "      <td>0.181698</td>\n",
              "      <td>-0.219230</td>\n",
              "      <td>-0.044633</td>\n",
              "      <td>...</td>\n",
              "      <td>-0.008276</td>\n",
              "      <td>0.148998</td>\n",
              "      <td>0.524364</td>\n",
              "      <td>0.353619</td>\n",
              "      <td>1.000000</td>\n",
              "      <td>0.478417</td>\n",
              "      <td>-0.043137</td>\n",
              "      <td>0.099130</td>\n",
              "      <td>-0.155093</td>\n",
              "      <td>-0.266799</td>\n",
              "    </tr>\n",
              "    <tr>\n",
              "      <th>DiffWalk</th>\n",
              "      <td>0.224239</td>\n",
              "      <td>0.223618</td>\n",
              "      <td>0.144672</td>\n",
              "      <td>0.040585</td>\n",
              "      <td>0.197078</td>\n",
              "      <td>0.122463</td>\n",
              "      <td>0.176567</td>\n",
              "      <td>0.212709</td>\n",
              "      <td>-0.253174</td>\n",
              "      <td>-0.048352</td>\n",
              "      <td>...</td>\n",
              "      <td>0.007074</td>\n",
              "      <td>0.118447</td>\n",
              "      <td>0.456920</td>\n",
              "      <td>0.233688</td>\n",
              "      <td>0.478417</td>\n",
              "      <td>1.000000</td>\n",
              "      <td>-0.070299</td>\n",
              "      <td>0.204450</td>\n",
              "      <td>-0.192642</td>\n",
              "      <td>-0.320124</td>\n",
              "    </tr>\n",
              "    <tr>\n",
              "      <th>Sex</th>\n",
              "      <td>0.031040</td>\n",
              "      <td>0.052207</td>\n",
              "      <td>0.031205</td>\n",
              "      <td>-0.022115</td>\n",
              "      <td>0.042950</td>\n",
              "      <td>0.093662</td>\n",
              "      <td>0.002978</td>\n",
              "      <td>0.086096</td>\n",
              "      <td>0.032482</td>\n",
              "      <td>-0.091175</td>\n",
              "      <td>...</td>\n",
              "      <td>-0.019405</td>\n",
              "      <td>-0.044931</td>\n",
              "      <td>-0.006091</td>\n",
              "      <td>-0.080705</td>\n",
              "      <td>-0.043137</td>\n",
              "      <td>-0.070299</td>\n",
              "      <td>1.000000</td>\n",
              "      <td>-0.027340</td>\n",
              "      <td>0.019480</td>\n",
              "      <td>0.127141</td>\n",
              "    </tr>\n",
              "    <tr>\n",
              "      <th>Age</th>\n",
              "      <td>0.185026</td>\n",
              "      <td>0.344452</td>\n",
              "      <td>0.272318</td>\n",
              "      <td>0.090321</td>\n",
              "      <td>-0.036618</td>\n",
              "      <td>0.120641</td>\n",
              "      <td>0.126974</td>\n",
              "      <td>0.221618</td>\n",
              "      <td>-0.092511</td>\n",
              "      <td>0.064547</td>\n",
              "      <td>...</td>\n",
              "      <td>0.138046</td>\n",
              "      <td>-0.119777</td>\n",
              "      <td>0.152450</td>\n",
              "      <td>-0.092068</td>\n",
              "      <td>0.099130</td>\n",
              "      <td>0.204450</td>\n",
              "      <td>-0.027340</td>\n",
              "      <td>1.000000</td>\n",
              "      <td>-0.101901</td>\n",
              "      <td>-0.127775</td>\n",
              "    </tr>\n",
              "    <tr>\n",
              "      <th>Education</th>\n",
              "      <td>-0.130517</td>\n",
              "      <td>-0.141358</td>\n",
              "      <td>-0.070802</td>\n",
              "      <td>0.001510</td>\n",
              "      <td>-0.103932</td>\n",
              "      <td>-0.161955</td>\n",
              "      <td>-0.076009</td>\n",
              "      <td>-0.099600</td>\n",
              "      <td>0.199658</td>\n",
              "      <td>0.110187</td>\n",
              "      <td>...</td>\n",
              "      <td>0.122514</td>\n",
              "      <td>-0.100701</td>\n",
              "      <td>-0.284912</td>\n",
              "      <td>-0.101830</td>\n",
              "      <td>-0.155093</td>\n",
              "      <td>-0.192642</td>\n",
              "      <td>0.019480</td>\n",
              "      <td>-0.101901</td>\n",
              "      <td>1.000000</td>\n",
              "      <td>0.449106</td>\n",
              "    </tr>\n",
              "    <tr>\n",
              "      <th>Income</th>\n",
              "      <td>-0.171483</td>\n",
              "      <td>-0.171235</td>\n",
              "      <td>-0.085459</td>\n",
              "      <td>0.014259</td>\n",
              "      <td>-0.100069</td>\n",
              "      <td>-0.123937</td>\n",
              "      <td>-0.128599</td>\n",
              "      <td>-0.141011</td>\n",
              "      <td>0.198539</td>\n",
              "      <td>0.079929</td>\n",
              "      <td>...</td>\n",
              "      <td>0.157999</td>\n",
              "      <td>-0.203182</td>\n",
              "      <td>-0.370014</td>\n",
              "      <td>-0.209806</td>\n",
              "      <td>-0.266799</td>\n",
              "      <td>-0.320124</td>\n",
              "      <td>0.127141</td>\n",
              "      <td>-0.127775</td>\n",
              "      <td>0.449106</td>\n",
              "      <td>1.000000</td>\n",
              "    </tr>\n",
              "  </tbody>\n",
              "</table>\n",
              "<p>22 rows × 22 columns</p>\n",
              "</div>\n",
              "      <button class=\"colab-df-convert\" onclick=\"convertToInteractive('df-3d21359c-e478-4b75-af1a-4a6e86ff13e8')\"\n",
              "              title=\"Convert this dataframe to an interactive table.\"\n",
              "              style=\"display:none;\">\n",
              "        \n",
              "  <svg xmlns=\"http://www.w3.org/2000/svg\" height=\"24px\"viewBox=\"0 0 24 24\"\n",
              "       width=\"24px\">\n",
              "    <path d=\"M0 0h24v24H0V0z\" fill=\"none\"/>\n",
              "    <path d=\"M18.56 5.44l.94 2.06.94-2.06 2.06-.94-2.06-.94-.94-2.06-.94 2.06-2.06.94zm-11 1L8.5 8.5l.94-2.06 2.06-.94-2.06-.94L8.5 2.5l-.94 2.06-2.06.94zm10 10l.94 2.06.94-2.06 2.06-.94-2.06-.94-.94-2.06-.94 2.06-2.06.94z\"/><path d=\"M17.41 7.96l-1.37-1.37c-.4-.4-.92-.59-1.43-.59-.52 0-1.04.2-1.43.59L10.3 9.45l-7.72 7.72c-.78.78-.78 2.05 0 2.83L4 21.41c.39.39.9.59 1.41.59.51 0 1.02-.2 1.41-.59l7.78-7.78 2.81-2.81c.8-.78.8-2.07 0-2.86zM5.41 20L4 18.59l7.72-7.72 1.47 1.35L5.41 20z\"/>\n",
              "  </svg>\n",
              "      </button>\n",
              "      \n",
              "  <style>\n",
              "    .colab-df-container {\n",
              "      display:flex;\n",
              "      flex-wrap:wrap;\n",
              "      gap: 12px;\n",
              "    }\n",
              "\n",
              "    .colab-df-convert {\n",
              "      background-color: #E8F0FE;\n",
              "      border: none;\n",
              "      border-radius: 50%;\n",
              "      cursor: pointer;\n",
              "      display: none;\n",
              "      fill: #1967D2;\n",
              "      height: 32px;\n",
              "      padding: 0 0 0 0;\n",
              "      width: 32px;\n",
              "    }\n",
              "\n",
              "    .colab-df-convert:hover {\n",
              "      background-color: #E2EBFA;\n",
              "      box-shadow: 0px 1px 2px rgba(60, 64, 67, 0.3), 0px 1px 3px 1px rgba(60, 64, 67, 0.15);\n",
              "      fill: #174EA6;\n",
              "    }\n",
              "\n",
              "    [theme=dark] .colab-df-convert {\n",
              "      background-color: #3B4455;\n",
              "      fill: #D2E3FC;\n",
              "    }\n",
              "\n",
              "    [theme=dark] .colab-df-convert:hover {\n",
              "      background-color: #434B5C;\n",
              "      box-shadow: 0px 1px 3px 1px rgba(0, 0, 0, 0.15);\n",
              "      filter: drop-shadow(0px 1px 2px rgba(0, 0, 0, 0.3));\n",
              "      fill: #FFFFFF;\n",
              "    }\n",
              "  </style>\n",
              "\n",
              "      <script>\n",
              "        const buttonEl =\n",
              "          document.querySelector('#df-3d21359c-e478-4b75-af1a-4a6e86ff13e8 button.colab-df-convert');\n",
              "        buttonEl.style.display =\n",
              "          google.colab.kernel.accessAllowed ? 'block' : 'none';\n",
              "\n",
              "        async function convertToInteractive(key) {\n",
              "          const element = document.querySelector('#df-3d21359c-e478-4b75-af1a-4a6e86ff13e8');\n",
              "          const dataTable =\n",
              "            await google.colab.kernel.invokeFunction('convertToInteractive',\n",
              "                                                     [key], {});\n",
              "          if (!dataTable) return;\n",
              "\n",
              "          const docLinkHtml = 'Like what you see? Visit the ' +\n",
              "            '<a target=\"_blank\" href=https://colab.research.google.com/notebooks/data_table.ipynb>data table notebook</a>'\n",
              "            + ' to learn more about interactive tables.';\n",
              "          element.innerHTML = '';\n",
              "          dataTable['output_type'] = 'display_data';\n",
              "          await google.colab.output.renderOutput(dataTable, element);\n",
              "          const docLink = document.createElement('div');\n",
              "          docLink.innerHTML = docLinkHtml;\n",
              "          element.appendChild(docLink);\n",
              "        }\n",
              "      </script>\n",
              "    </div>\n",
              "  </div>\n",
              "  "
            ],
            "text/plain": [
              "                      Diabetes_012    HighBP  HighChol  CholCheck       BMI  \\\n",
              "Diabetes_012              1.000000  0.271596  0.209085   0.067546  0.224379   \n",
              "HighBP                    0.271596  1.000000  0.298199   0.098508  0.213748   \n",
              "HighChol                  0.209085  0.298199  1.000000   0.085642  0.106722   \n",
              "CholCheck                 0.067546  0.098508  0.085642   1.000000  0.034495   \n",
              "BMI                       0.224379  0.213748  0.106722   0.034495  1.000000   \n",
              "Smoker                    0.062914  0.096991  0.091299  -0.009929  0.013804   \n",
              "Stroke                    0.107179  0.129575  0.092620   0.024158  0.020153   \n",
              "HeartDiseaseorAttack      0.180272  0.209361  0.180765   0.044206  0.052904   \n",
              "PhysActivity             -0.121947 -0.125267 -0.078046   0.004190 -0.147294   \n",
              "Fruits                   -0.042192 -0.040555 -0.040859   0.023849 -0.087518   \n",
              "Veggies                  -0.058972 -0.061266 -0.039874   0.006121 -0.062275   \n",
              "HvyAlcoholConsump        -0.057882 -0.003972 -0.011543  -0.023730 -0.048736   \n",
              "AnyHealthcare             0.015410  0.038425  0.042230   0.117626 -0.018471   \n",
              "NoDocbcCost               0.035436  0.017358  0.013310  -0.058255  0.058206   \n",
              "GenHlth                   0.302587  0.300530  0.208426   0.046589  0.239185   \n",
              "MentHlth                  0.073507  0.056456  0.062069  -0.008366  0.085310   \n",
              "PhysHlth                  0.176287  0.161212  0.121751   0.031775  0.121141   \n",
              "DiffWalk                  0.224239  0.223618  0.144672   0.040585  0.197078   \n",
              "Sex                       0.031040  0.052207  0.031205  -0.022115  0.042950   \n",
              "Age                       0.185026  0.344452  0.272318   0.090321 -0.036618   \n",
              "Education                -0.130517 -0.141358 -0.070802   0.001510 -0.103932   \n",
              "Income                   -0.171483 -0.171235 -0.085459   0.014259 -0.100069   \n",
              "\n",
              "                        Smoker    Stroke  HeartDiseaseorAttack  PhysActivity  \\\n",
              "Diabetes_012          0.062914  0.107179              0.180272     -0.121947   \n",
              "HighBP                0.096991  0.129575              0.209361     -0.125267   \n",
              "HighChol              0.091299  0.092620              0.180765     -0.078046   \n",
              "CholCheck            -0.009929  0.024158              0.044206      0.004190   \n",
              "BMI                   0.013804  0.020153              0.052904     -0.147294   \n",
              "Smoker                1.000000  0.061173              0.114441     -0.087401   \n",
              "Stroke                0.061173  1.000000              0.203002     -0.069151   \n",
              "HeartDiseaseorAttack  0.114441  0.203002              1.000000     -0.087299   \n",
              "PhysActivity         -0.087401 -0.069151             -0.087299      1.000000   \n",
              "Fruits               -0.077666 -0.013389             -0.019790      0.142756   \n",
              "Veggies              -0.030678 -0.041124             -0.039167      0.153150   \n",
              "HvyAlcoholConsump     0.101619 -0.016950             -0.028991      0.012392   \n",
              "AnyHealthcare        -0.023251  0.008776              0.018734      0.035505   \n",
              "NoDocbcCost           0.048946  0.034804              0.031000     -0.061638   \n",
              "GenHlth               0.163143  0.177942              0.258383     -0.266186   \n",
              "MentHlth              0.092196  0.070172              0.064621     -0.125587   \n",
              "PhysHlth              0.116460  0.148944              0.181698     -0.219230   \n",
              "DiffWalk              0.122463  0.176567              0.212709     -0.253174   \n",
              "Sex                   0.093662  0.002978              0.086096      0.032482   \n",
              "Age                   0.120641  0.126974              0.221618     -0.092511   \n",
              "Education            -0.161955 -0.076009             -0.099600      0.199658   \n",
              "Income               -0.123937 -0.128599             -0.141011      0.198539   \n",
              "\n",
              "                        Fruits  ...  AnyHealthcare  NoDocbcCost   GenHlth  \\\n",
              "Diabetes_012         -0.042192  ...       0.015410     0.035436  0.302587   \n",
              "HighBP               -0.040555  ...       0.038425     0.017358  0.300530   \n",
              "HighChol             -0.040859  ...       0.042230     0.013310  0.208426   \n",
              "CholCheck             0.023849  ...       0.117626    -0.058255  0.046589   \n",
              "BMI                  -0.087518  ...      -0.018471     0.058206  0.239185   \n",
              "Smoker               -0.077666  ...      -0.023251     0.048946  0.163143   \n",
              "Stroke               -0.013389  ...       0.008776     0.034804  0.177942   \n",
              "HeartDiseaseorAttack -0.019790  ...       0.018734     0.031000  0.258383   \n",
              "PhysActivity          0.142756  ...       0.035505    -0.061638 -0.266186   \n",
              "Fruits                1.000000  ...       0.031544    -0.044243 -0.103854   \n",
              "Veggies               0.254342  ...       0.029584    -0.032232 -0.123066   \n",
              "HvyAlcoholConsump    -0.035288  ...      -0.010488     0.004684 -0.036724   \n",
              "AnyHealthcare         0.031544  ...       1.000000    -0.232532 -0.040817   \n",
              "NoDocbcCost          -0.044243  ...      -0.232532     1.000000  0.166397   \n",
              "GenHlth              -0.103854  ...      -0.040817     0.166397  1.000000   \n",
              "MentHlth             -0.068217  ...      -0.052707     0.192107  0.301674   \n",
              "PhysHlth             -0.044633  ...      -0.008276     0.148998  0.524364   \n",
              "DiffWalk             -0.048352  ...       0.007074     0.118447  0.456920   \n",
              "Sex                  -0.091175  ...      -0.019405    -0.044931 -0.006091   \n",
              "Age                   0.064547  ...       0.138046    -0.119777  0.152450   \n",
              "Education             0.110187  ...       0.122514    -0.100701 -0.284912   \n",
              "Income                0.079929  ...       0.157999    -0.203182 -0.370014   \n",
              "\n",
              "                      MentHlth  PhysHlth  DiffWalk       Sex       Age  \\\n",
              "Diabetes_012          0.073507  0.176287  0.224239  0.031040  0.185026   \n",
              "HighBP                0.056456  0.161212  0.223618  0.052207  0.344452   \n",
              "HighChol              0.062069  0.121751  0.144672  0.031205  0.272318   \n",
              "CholCheck            -0.008366  0.031775  0.040585 -0.022115  0.090321   \n",
              "BMI                   0.085310  0.121141  0.197078  0.042950 -0.036618   \n",
              "Smoker                0.092196  0.116460  0.122463  0.093662  0.120641   \n",
              "Stroke                0.070172  0.148944  0.176567  0.002978  0.126974   \n",
              "HeartDiseaseorAttack  0.064621  0.181698  0.212709  0.086096  0.221618   \n",
              "PhysActivity         -0.125587 -0.219230 -0.253174  0.032482 -0.092511   \n",
              "Fruits               -0.068217 -0.044633 -0.048352 -0.091175  0.064547   \n",
              "Veggies              -0.058884 -0.064290 -0.080506 -0.064765 -0.009771   \n",
              "HvyAlcoholConsump     0.024716 -0.026415 -0.037668  0.005740 -0.034578   \n",
              "AnyHealthcare        -0.052707 -0.008276  0.007074 -0.019405  0.138046   \n",
              "NoDocbcCost           0.192107  0.148998  0.118447 -0.044931 -0.119777   \n",
              "GenHlth               0.301674  0.524364  0.456920 -0.006091  0.152450   \n",
              "MentHlth              1.000000  0.353619  0.233688 -0.080705 -0.092068   \n",
              "PhysHlth              0.353619  1.000000  0.478417 -0.043137  0.099130   \n",
              "DiffWalk              0.233688  0.478417  1.000000 -0.070299  0.204450   \n",
              "Sex                  -0.080705 -0.043137 -0.070299  1.000000 -0.027340   \n",
              "Age                  -0.092068  0.099130  0.204450 -0.027340  1.000000   \n",
              "Education            -0.101830 -0.155093 -0.192642  0.019480 -0.101901   \n",
              "Income               -0.209806 -0.266799 -0.320124  0.127141 -0.127775   \n",
              "\n",
              "                      Education    Income  \n",
              "Diabetes_012          -0.130517 -0.171483  \n",
              "HighBP                -0.141358 -0.171235  \n",
              "HighChol              -0.070802 -0.085459  \n",
              "CholCheck              0.001510  0.014259  \n",
              "BMI                   -0.103932 -0.100069  \n",
              "Smoker                -0.161955 -0.123937  \n",
              "Stroke                -0.076009 -0.128599  \n",
              "HeartDiseaseorAttack  -0.099600 -0.141011  \n",
              "PhysActivity           0.199658  0.198539  \n",
              "Fruits                 0.110187  0.079929  \n",
              "Veggies                0.154329  0.151087  \n",
              "HvyAlcoholConsump      0.023997  0.053619  \n",
              "AnyHealthcare          0.122514  0.157999  \n",
              "NoDocbcCost           -0.100701 -0.203182  \n",
              "GenHlth               -0.284912 -0.370014  \n",
              "MentHlth              -0.101830 -0.209806  \n",
              "PhysHlth              -0.155093 -0.266799  \n",
              "DiffWalk              -0.192642 -0.320124  \n",
              "Sex                    0.019480  0.127141  \n",
              "Age                   -0.101901 -0.127775  \n",
              "Education              1.000000  0.449106  \n",
              "Income                 0.449106  1.000000  \n",
              "\n",
              "[22 rows x 22 columns]"
            ]
          },
          "execution_count": 9,
          "metadata": {},
          "output_type": "execute_result"
        }
      ],
      "source": [
        "df.corr()"
      ]
    },
    {
      "cell_type": "code",
      "execution_count": null,
      "metadata": {
        "id": "DkW3wYBdWYnZ"
      },
      "outputs": [],
      "source": [
        "#plt.figure(figsize = (20,10))\n",
        "#sns.heatmap(df.corr(),annot=True , cmap ='YlOrRd' )\n",
        "#plt.title(\"correlation of features\")"
      ]
    },
    {
      "cell_type": "markdown",
      "metadata": {
        "id": "AnjY-WogfyOO"
      },
      "source": [
        "Visualizing various distributions in our dataset:"
      ]
    },
    {
      "cell_type": "code",
      "execution_count": null,
      "metadata": {
        "colab": {
          "base_uri": "https://localhost:8080/"
        },
        "id": "EcM7aifSHYM_",
        "outputId": "ad0106f0-004b-49eb-8be8-84d43c445433"
      },
      "outputs": [
        {
          "data": {
            "text/plain": [
              "Text(0.5, 1.0, 'Income distribution')"
            ]
          },
          "execution_count": 11,
          "metadata": {},
          "output_type": "execute_result"
        },
        {
          "data": {
            "image/png": "[encoded data removed]",
            "text/plain": [
              "<Figure size 432x288 with 1 Axes>"
            ]
          },
          "metadata": {},
          "output_type": "display_data"
        }
      ],
      "source": [
        "#income distribution\n",
        "df['Income'].value_counts(normalize=True).plot(kind='bar');\n",
        "plt.title(\"Income distribution\")"
      ]
    },
    {
      "cell_type": "code",
      "execution_count": null,
      "metadata": {
        "colab": {
          "base_uri": "https://localhost:8080/"
        },
        "id": "q9iRiiIKJrW7",
        "outputId": "f4892143-1344-4ac5-d179-4886218d8a42"
      },
      "outputs": [
        {
          "data": {
            "image/png": "[encoded data removed]",
            "text/plain": [
              "<Figure size 432x288 with 2 Axes>"
            ]
          },
          "metadata": {},
          "output_type": "display_data"
        }
      ],
      "source": [
        "#sex distribution\n",
        "sns.heatmap(pd.crosstab(df['Diabetes_012'], df['Sex']), annot=False, linewidth= 0.5, cmap=\"crest\");"
      ]
    },
    {
      "cell_type": "code",
      "execution_count": null,
      "metadata": {
        "colab": {
          "base_uri": "https://localhost:8080/"
        },
        "id": "sRkWSo89PTAT",
        "outputId": "92a3d2b1-c621-406b-dc44-c6067dc54aab"
      },
      "outputs": [
        {
          "data": {
            "image/png": "[encoded data removed]",
            "text/plain": [
              "<Figure size 432x288 with 1 Axes>"
            ]
          },
          "metadata": {},
          "output_type": "display_data"
        }
      ],
      "source": [
        "#age distribution \n",
        "sns.countplot(x='Age', hue='Diabetes_012', data=df);\n",
        "sns.set_theme(style=\"whitegrid\")"
      ]
    },
    {
      "cell_type": "code",
      "execution_count": null,
      "metadata": {
        "colab": {
          "base_uri": "https://localhost:8080/"
        },
        "id": "TC4wttYTIawD",
        "outputId": "50034838-1f14-40fa-e7fb-f43e29e0c919"
      },
      "outputs": [
        {
          "data": {
            "text/plain": [
              "<matplotlib.legend.Legend at 0x7f7fe521fb50>"
            ]
          },
          "execution_count": 14,
          "metadata": {},
          "output_type": "execute_result"
        },
        {
          "data": {
            "image/png": "[encoded data removed]",
            "text/plain": [
              "<Figure size 720x432 with 1 Axes>"
            ]
          },
          "metadata": {},
          "output_type": "display_data"
        }
      ],
      "source": [
        "plt.figure(figsize=(10,6))\n",
        "\n",
        "sns.distplot(df.Income[df.Diabetes_012 == 0], color=\"y\", label=\"No Diabetic\" )\n",
        "sns.distplot(df.Income[df.Diabetes_012 == 1], color=\"m\", label=\"Diabetic\" )\n",
        "plt.title(\"Relation b/w Income and Diabetes\")\n",
        "\n",
        "plt.legend()"
      ]
    },
    {
      "cell_type": "code",
      "execution_count": null,
      "metadata": {
        "colab": {
          "base_uri": "https://localhost:8080/"
        },
        "id": "2Wr8oG71Iati",
        "outputId": "82d785c8-7b68-4583-f6f2-dfb35cf07f32"
      },
      "outputs": [
        {
          "data": {
            "image/png": "[encoded data removed]",
            "text/plain": [
              "<Figure size 1440x432 with 1 Axes>"
            ]
          },
          "metadata": {},
          "output_type": "display_data"
        }
      ],
      "source": [
        "pd.crosstab(df.HighChol,df.Diabetes_012).plot(kind=\"bar\",figsize=(20,6),color=['Purple', 'Green', 'blue' ])\n",
        "plt.title('Diabetes Disease Frequency for HighChol')\n",
        "plt.xlabel('HighChol')\n",
        "plt.xticks(rotation=0)\n",
        "plt.ylabel('Frequency')\n",
        "plt.show()"
      ]
    },
    {
      "cell_type": "code",
      "execution_count": null,
      "metadata": {
        "colab": {
          "base_uri": "https://localhost:8080/"
        },
        "id": "o7OS-WlkIarK",
        "outputId": "45d56f56-1038-44d4-f797-d532d64605ff"
      },
      "outputs": [
        {
          "data": {
            "image/png": "[encoded data removed]",
            "text/plain": [
              "<Figure size 1440x576 with 1 Axes>"
            ]
          },
          "metadata": {},
          "output_type": "display_data"
        }
      ],
      "source": [
        "df.drop('Diabetes_012', axis=1).corrwith(df.Diabetes_012).plot(kind='bar', grid=True, figsize=(20, 8)\n",
        ", title=\"Correlation with Diabetes_binary\",color=\"Purple\");"
      ]
    },
    {
      "cell_type": "markdown",
      "metadata": {
        "id": "xPUI-Q91EWRS"
      },
      "source": [
        "# 6.Data Preprocessing\n",
        "\n",
        "In the data preprocessing, as shown clearly below, almost all the variables have been converted to categorical, except BMI which is an integer. This conversion took place from `float64` to `categorical`, and the reasoning behind this is the survey nature of the data, where the findings are categories. One of the things that also helps us further in these categories is that the entire categorical data is ordinal, allowing our insights and models to be run with an accurately categorised dataset. \n",
        "\n",
        "Additionally, the second thing we have done in preprocessing is combining prediabetic and diabetic data. The reasoning behind this is that the values for the prediabetic data were not significant, around 4000 values, with findings similar to the diabetic dataset. Given that we are aiming to predict diabetes, we do not require the pre diabetic dataset. Hence, the code has been run below to combine the two, after which dealing with imbalancing takes place. \n"
      ]
    },
    {
      "cell_type": "code",
      "execution_count": null,
      "metadata": {
        "id": "VJhVDqBiNLFU"
      },
      "outputs": [],
      "source": [
        "df = df.astype({'Diabetes_012': 'category', 'HighBP':'category', 'HighChol':'category', 'CholCheck':'category', 'Smoker':'category', 'Stroke':'category', 'HeartDiseaseorAttack':'category', 'PhysActivity':'category', 'Fruits':'category', 'Veggies':'category', 'HvyAlcoholConsump':'category', 'AnyHealthcare':'category', 'NoDocbcCost':'category', 'DiffWalk':'category', 'Sex':'category', 'Education':'category', 'Income':'category', 'Age': 'category', 'PhysHlth': 'category', 'MentHlth': 'category', 'GenHlth': 'category','BMI': 'int64'})"
      ]
    },
    {
      "cell_type": "code",
      "execution_count": null,
      "metadata": {
        "colab": {
          "base_uri": "https://localhost:8080/"
        },
        "id": "jFaF7U_DEx9k",
        "outputId": "112bb221-24d1-4daf-91d8-136fe8a6329b"
      },
      "outputs": [
        {
          "name": "stdout",
          "output_type": "stream",
          "text": [
            "<class 'pandas.core.frame.DataFrame'>\n",
            "RangeIndex: 253680 entries, 0 to 253679\n",
            "Data columns (total 22 columns):\n",
            " #   Column                Non-Null Count   Dtype   \n",
            "---  ------                --------------   -----   \n",
            " 0   Diabetes_012          253680 non-null  category\n",
            " 1   HighBP                253680 non-null  category\n",
            " 2   HighChol              253680 non-null  category\n",
            " 3   CholCheck             253680 non-null  category\n",
            " 4   BMI                   253680 non-null  int64   \n",
            " 5   Smoker                253680 non-null  category\n",
            " 6   Stroke                253680 non-null  category\n",
            " 7   HeartDiseaseorAttack  253680 non-null  category\n",
            " 8   PhysActivity          253680 non-null  category\n",
            " 9   Fruits                253680 non-null  category\n",
            " 10  Veggies               253680 non-null  category\n",
            " 11  HvyAlcoholConsump     253680 non-null  category\n",
            " 12  AnyHealthcare         253680 non-null  category\n",
            " 13  NoDocbcCost           253680 non-null  category\n",
            " 14  GenHlth               253680 non-null  category\n",
            " 15  MentHlth              253680 non-null  category\n",
            " 16  PhysHlth              253680 non-null  category\n",
            " 17  DiffWalk              253680 non-null  category\n",
            " 18  Sex                   253680 non-null  category\n",
            " 19  Age                   253680 non-null  category\n",
            " 20  Education             253680 non-null  category\n",
            " 21  Income                253680 non-null  category\n",
            "dtypes: category(21), int64(1)\n",
            "memory usage: 7.0 MB\n"
          ]
        }
      ],
      "source": [
        "df.info()"
      ]
    },
    {
      "cell_type": "markdown",
      "metadata": {
        "id": "t8LFObsfd2Ag"
      },
      "source": [
        "Before moving forward with our analysis, we decided to combine prediabetic and diabetic data together, since prediabetic data comprises only 2% of the total dataset and as we saw in the introductory analysis it has similar values with the diabetic data."
      ]
    },
    {
      "cell_type": "code",
      "execution_count": null,
      "metadata": {
        "id": "ov2ud86LH1ac"
      },
      "outputs": [],
      "source": [
        "#combining pre diabetic to diabetic\n",
        "df['Diabetes_012'] = df['Diabetes_012'].apply(lambda x : 1 if x == 2 else x)"
      ]
    },
    {
      "cell_type": "markdown",
      "metadata": {
        "id": "jM93iRhpFNsY"
      },
      "source": [
        "# 7.Data Imbalancing\n",
        "\n",
        "The imbalancing here could've been dealt but multiple ways, with two ways that stood out: `NearMiss` and `SMOTE`. As mentioned in the visualizations section earlier, class imbalance presents two main problems: tampering with model accuracy and running time of the model. With `NearMiss`, we had the benefit of undersampling the Non-Diabetic category, which brought our value counts down to approximately 40000. On the other hand, with `SMOTE`, we had done the same thing where we undersampled to approximately 60000 for Non Diabetic and 40,000 for Diabetic. \n",
        "\n",
        "We could've gone ahead with `NearMiss` as it was more efficent, brought forward a more realistic divide. Focusing more on the efficiency part, we ran all the models with both the methods and `NearMiss` ran faster, with better insights and accuracy on an average. Additionally, the main error we faced with `SMOTE` was overfitting (but you can still find the code below), which led us to work with `NearMiss`.\n",
        "\n",
        "However, eventually neither of the methods were followed as the dataset did have a 80/20 split, and insights were found similarly helpful. This was purely for theoretical explaination purposes, and understanding the methods better, and the insights found without using these methods or using these methods proved to be the similar. "
      ]
    },
    {
      "cell_type": "markdown",
      "metadata": {
        "id": "rLEJyFQpbymj"
      },
      "source": [
        "###7.1Method 1: Near Miss "
      ]
    },
    {
      "cell_type": "code",
      "execution_count": null,
      "metadata": {
        "id": "JpeYlC6AZczo"
      },
      "outputs": [],
      "source": [
        "#Y.value_counts()"
      ]
    },
    {
      "cell_type": "code",
      "execution_count": null,
      "metadata": {
        "id": "hLT1__OpFcx6"
      },
      "outputs": [],
      "source": [
        "#from imblearn.under_sampling import NearMiss\n",
        "#nm = NearMiss(version = 1 , n_neighbors = 10)\n",
        "\n",
        "#x_sm,y_sm= nm.fit_resample(X,Y)"
      ]
    },
    {
      "cell_type": "code",
      "execution_count": null,
      "metadata": {
        "id": "3vi2wFm2FmO6"
      },
      "outputs": [],
      "source": [
        "#y_sm.shape , x_sm.shape"
      ]
    },
    {
      "cell_type": "code",
      "execution_count": null,
      "metadata": {
        "id": "L7f6nhWEFoUA"
      },
      "outputs": [],
      "source": [
        "#y_sm.value_counts()"
      ]
    },
    {
      "cell_type": "code",
      "execution_count": null,
      "metadata": {
        "id": "YlL-MQOXMpMt"
      },
      "outputs": [],
      "source": [
        "#from sklearn.model_selection import train_test_split\n",
        "#X_train , X_test , Y_train , Y_test = train_test_split(x_sm,y_sm, test_size=0.2 , random_state=42)"
      ]
    },
    {
      "cell_type": "markdown",
      "metadata": {
        "id": "xQdWZp94b1lL"
      },
      "source": [
        "###7.2Method 2: SMOTE"
      ]
    },
    {
      "cell_type": "code",
      "execution_count": null,
      "metadata": {
        "id": "ni7weIDtb52O"
      },
      "outputs": [],
      "source": [
        "#import matplotlib.pyplot as plt\n",
        "#from imblearn.over_sampling import SMOTE\n",
        "\n",
        "#oversampled = SMOTE(sampling_strategy= 0.2, \n",
        "                    #random_state=0,\n",
        "                    #k_neighbors=2)\n",
        "#X_train_smote, y_train_smote = oversampled.fit_resample(X_train, y_train)"
      ]
    },
    {
      "cell_type": "code",
      "execution_count": null,
      "metadata": {
        "id": "gvfh5kdRBUpc"
      },
      "outputs": [],
      "source": [
        "#from imblearn.under_sampling import RandomUnderSampler\n",
        "\n",
        "#undersampled = RandomUnderSampler(sampling_strategy= 0.7, random_state=0)\n",
        "#X_train_final, y_train_final = undersampled.fit_resample(X_train_smote, y_train_smote)"
      ]
    },
    {
      "cell_type": "code",
      "execution_count": null,
      "metadata": {
        "id": "MbKdpVudBYvb"
      },
      "outputs": [],
      "source": [
        "#y_train_final = pd.DataFrame(y_train_final)\n",
        "#y_train_final.columns =['Diabetes_012']\n",
        "#balanced_data = sns.catplot(x = 'Diabetes_012', kind = 'count', data = y_train_final)\n",
        "\n",
        "#balanced_data.fig.suptitle('Diabetes: Yes (1) and No (0)');"
      ]
    },
    {
      "cell_type": "code",
      "execution_count": null,
      "metadata": {
        "id": "VrLPkIMveAQ9"
      },
      "outputs": [],
      "source": []
    },
    {
      "cell_type": "code",
      "execution_count": null,
      "metadata": {
        "id": "fHsikkbTeAOn"
      },
      "outputs": [],
      "source": []
    },
    {
      "cell_type": "markdown",
      "metadata": {
        "id": "S3viK9A0EZ3V"
      },
      "source": [
        "#8.Creating a test set\n",
        "\n",
        "Below we set aside a portion of the data for training and for testing that we will use later to test and run our models. We're aware that if data cleaning wasw required, we would first split the dataset into test and train and then go for data cleaning, however since the dataset is a clean dataset with zero null values, we have gone ahead with splitting the dataset here below. "
      ]
    },
    {
      "cell_type": "code",
      "execution_count": null,
      "metadata": {
        "colab": {
          "base_uri": "https://localhost:8080/"
        },
        "id": "RnbpQZhXEhV2",
        "outputId": "882cb9b6-69a2-4d62-c36b-1efe8aa82c9f"
      },
      "outputs": [
        {
          "data": {
            "text/plain": [
              "((202944, 21), (50736, 21), (202944,), (50736,))"
            ]
          },
          "execution_count": 28,
          "metadata": {},
          "output_type": "execute_result"
        }
      ],
      "source": [
        "from sklearn.model_selection import train_test_split\n",
        "X = df.drop('Diabetes_012', axis=1) \n",
        "y = df['Diabetes_012'].copy()      \n",
        "train_X, test_X, train_y, test_y = train_test_split(X, y, test_size = .2, random_state=0)\n",
        "train_X.shape, test_X.shape, train_y.shape, test_y.shape # check sizes"
      ]
    },
    {
      "cell_type": "markdown",
      "metadata": {
        "id": "hfTMvx8sG4Sg"
      },
      "source": [
        "#9.Building a Pipeline\n",
        "\n",
        "We went ahead with a standard pipeline but we added one computational change, which is in line 22 with the OneHotEncoder. Since we have too many categorical columns, we want to eliminate and remove the multi collineratiy, which is why we use drop_first inside of the the OneHotEncoder of the categorical pipeline. "
      ]
    },
    {
      "cell_type": "code",
      "execution_count": null,
      "metadata": {
        "colab": {
          "base_uri": "https://localhost:8080/",
          "height": 152
        },
        "id": "4FI288ENG76y",
        "outputId": "c95a26d2-c235-44ea-d333-dae0c26d495e"
      },
      "outputs": [
        {
          "data": {
            "text/html": [
              "<style>#sk-94058eef-4e78-47f5-9c06-c51bda338044 {color: black;background-color: white;}#sk-94058eef-4e78-47f5-9c06-c51bda338044 pre{padding: 0;}#sk-94058eef-4e78-47f5-9c06-c51bda338044 div.sk-toggleable {background-color: white;}#sk-94058eef-4e78-47f5-9c06-c51bda338044 label.sk-toggleable__label {cursor: pointer;display: block;width: 100%;margin-bottom: 0;padding: 0.3em;box-sizing: border-box;text-align: center;}#sk-94058eef-4e78-47f5-9c06-c51bda338044 label.sk-toggleable__label-arrow:before {content: \"▸\";float: left;margin-right: 0.25em;color: #696969;}#sk-94058eef-4e78-47f5-9c06-c51bda338044 label.sk-toggleable__label-arrow:hover:before {color: black;}#sk-94058eef-4e78-47f5-9c06-c51bda338044 div.sk-estimator:hover label.sk-toggleable__label-arrow:before {color: black;}#sk-94058eef-4e78-47f5-9c06-c51bda338044 div.sk-toggleable__content {max-height: 0;max-width: 0;overflow: hidden;text-align: left;background-color: #f0f8ff;}#sk-94058eef-4e78-47f5-9c06-c51bda338044 div.sk-toggleable__content pre {margin: 0.2em;color: black;border-radius: 0.25em;background-color: #f0f8ff;}#sk-94058eef-4e78-47f5-9c06-c51bda338044 input.sk-toggleable__control:checked~div.sk-toggleable__content {max-height: 200px;max-width: 100%;overflow: auto;}#sk-94058eef-4e78-47f5-9c06-c51bda338044 input.sk-toggleable__control:checked~label.sk-toggleable__label-arrow:before {content: \"▾\";}#sk-94058eef-4e78-47f5-9c06-c51bda338044 div.sk-estimator input.sk-toggleable__control:checked~label.sk-toggleable__label {background-color: #d4ebff;}#sk-94058eef-4e78-47f5-9c06-c51bda338044 div.sk-label input.sk-toggleable__control:checked~label.sk-toggleable__label {background-color: #d4ebff;}#sk-94058eef-4e78-47f5-9c06-c51bda338044 input.sk-hidden--visually {border: 0;clip: rect(1px 1px 1px 1px);clip: rect(1px, 1px, 1px, 1px);height: 1px;margin: -1px;overflow: hidden;padding: 0;position: absolute;width: 1px;}#sk-94058eef-4e78-47f5-9c06-c51bda338044 div.sk-estimator {font-family: monospace;background-color: #f0f8ff;border: 1px dotted black;border-radius: 0.25em;box-sizing: border-box;margin-bottom: 0.5em;}#sk-94058eef-4e78-47f5-9c06-c51bda338044 div.sk-estimator:hover {background-color: #d4ebff;}#sk-94058eef-4e78-47f5-9c06-c51bda338044 div.sk-parallel-item::after {content: \"\";width: 100%;border-bottom: 1px solid gray;flex-grow: 1;}#sk-94058eef-4e78-47f5-9c06-c51bda338044 div.sk-label:hover label.sk-toggleable__label {background-color: #d4ebff;}#sk-94058eef-4e78-47f5-9c06-c51bda338044 div.sk-serial::before {content: \"\";position: absolute;border-left: 1px solid gray;box-sizing: border-box;top: 2em;bottom: 0;left: 50%;}#sk-94058eef-4e78-47f5-9c06-c51bda338044 div.sk-serial {display: flex;flex-direction: column;align-items: center;background-color: white;padding-right: 0.2em;padding-left: 0.2em;}#sk-94058eef-4e78-47f5-9c06-c51bda338044 div.sk-item {z-index: 1;}#sk-94058eef-4e78-47f5-9c06-c51bda338044 div.sk-parallel {display: flex;align-items: stretch;justify-content: center;background-color: white;}#sk-94058eef-4e78-47f5-9c06-c51bda338044 div.sk-parallel::before {content: \"\";position: absolute;border-left: 1px solid gray;box-sizing: border-box;top: 2em;bottom: 0;left: 50%;}#sk-94058eef-4e78-47f5-9c06-c51bda338044 div.sk-parallel-item {display: flex;flex-direction: column;position: relative;background-color: white;}#sk-94058eef-4e78-47f5-9c06-c51bda338044 div.sk-parallel-item:first-child::after {align-self: flex-end;width: 50%;}#sk-94058eef-4e78-47f5-9c06-c51bda338044 div.sk-parallel-item:last-child::after {align-self: flex-start;width: 50%;}#sk-94058eef-4e78-47f5-9c06-c51bda338044 div.sk-parallel-item:only-child::after {width: 0;}#sk-94058eef-4e78-47f5-9c06-c51bda338044 div.sk-dashed-wrapped {border: 1px dashed gray;margin: 0 0.4em 0.5em 0.4em;box-sizing: border-box;padding-bottom: 0.4em;background-color: white;position: relative;}#sk-94058eef-4e78-47f5-9c06-c51bda338044 div.sk-label label {font-family: monospace;font-weight: bold;background-color: white;display: inline-block;line-height: 1.2em;}#sk-94058eef-4e78-47f5-9c06-c51bda338044 div.sk-label-container {position: relative;z-index: 2;text-align: center;}#sk-94058eef-4e78-47f5-9c06-c51bda338044 div.sk-container {/* jupyter's `normalize.less` sets `[hidden] { display: none; }` but bootstrap.min.css set `[hidden] { display: none !important; }` so we also need the `!important` here to be able to override the default hidden behavior on the sphinx rendered scikit-learn.org. See: https://github.com/scikit-learn/scikit-learn/issues/21755 */display: inline-block !important;position: relative;}#sk-94058eef-4e78-47f5-9c06-c51bda338044 div.sk-text-repr-fallback {display: none;}</style><div id=\"sk-94058eef-4e78-47f5-9c06-c51bda338044\" class=\"sk-top-container\"><div class=\"sk-text-repr-fallback\"><pre>ColumnTransformer(transformers=[(&#x27;num&#x27;,\n",
              "                                 Pipeline(steps=[(&#x27;imputer&#x27;,\n",
              "                                                  SimpleImputer(strategy=&#x27;median&#x27;)),\n",
              "                                                 (&#x27;scaler&#x27;, StandardScaler())]),\n",
              "                                 [&#x27;BMI&#x27;]),\n",
              "                                (&#x27;cat&#x27;,\n",
              "                                 Pipeline(steps=[(&#x27;imputer&#x27;,\n",
              "                                                  SimpleImputer(strategy=&#x27;most_frequent&#x27;)),\n",
              "                                                 (&#x27;cat_encoder&#x27;,\n",
              "                                                  OneHotEncoder(sparse=False))]),\n",
              "                                 [&#x27;HighBP&#x27;, &#x27;HighChol&#x27;, &#x27;CholCheck&#x27;, &#x27;Smoker&#x27;,\n",
              "                                  &#x27;Stroke&#x27;, &#x27;HeartDiseaseorAttack&#x27;,\n",
              "                                  &#x27;PhysActivity&#x27;, &#x27;Fruits&#x27;, &#x27;Veggies&#x27;,\n",
              "                                  &#x27;HvyAlcoholConsump&#x27;, &#x27;AnyHealthcare&#x27;,\n",
              "                                  &#x27;NoDocbcCost&#x27;, &#x27;DiffWalk&#x27;, &#x27;Sex&#x27;, &#x27;Education&#x27;,\n",
              "                                  &#x27;Income&#x27;, &#x27;Age&#x27;, &#x27;PhysHlth&#x27;, &#x27;MentHlth&#x27;,\n",
              "                                  &#x27;GenHlth&#x27;])])</pre><b>Please rerun this cell to show the HTML repr or trust the notebook.</b></div><div class=\"sk-container\" hidden><div class=\"sk-item sk-dashed-wrapped\"><div class=\"sk-label-container\"><div class=\"sk-label sk-toggleable\"><input class=\"sk-toggleable__control sk-hidden--visually\" id=\"7973bf2b-e2bc-43b9-bf44-a646fea84104\" type=\"checkbox\" ><label for=\"7973bf2b-e2bc-43b9-bf44-a646fea84104\" class=\"sk-toggleable__label sk-toggleable__label-arrow\">ColumnTransformer</label><div class=\"sk-toggleable__content\"><pre>ColumnTransformer(transformers=[(&#x27;num&#x27;,\n",
              "                                 Pipeline(steps=[(&#x27;imputer&#x27;,\n",
              "                                                  SimpleImputer(strategy=&#x27;median&#x27;)),\n",
              "                                                 (&#x27;scaler&#x27;, StandardScaler())]),\n",
              "                                 [&#x27;BMI&#x27;]),\n",
              "                                (&#x27;cat&#x27;,\n",
              "                                 Pipeline(steps=[(&#x27;imputer&#x27;,\n",
              "                                                  SimpleImputer(strategy=&#x27;most_frequent&#x27;)),\n",
              "                                                 (&#x27;cat_encoder&#x27;,\n",
              "                                                  OneHotEncoder(sparse=False))]),\n",
              "                                 [&#x27;HighBP&#x27;, &#x27;HighChol&#x27;, &#x27;CholCheck&#x27;, &#x27;Smoker&#x27;,\n",
              "                                  &#x27;Stroke&#x27;, &#x27;HeartDiseaseorAttack&#x27;,\n",
              "                                  &#x27;PhysActivity&#x27;, &#x27;Fruits&#x27;, &#x27;Veggies&#x27;,\n",
              "                                  &#x27;HvyAlcoholConsump&#x27;, &#x27;AnyHealthcare&#x27;,\n",
              "                                  &#x27;NoDocbcCost&#x27;, &#x27;DiffWalk&#x27;, &#x27;Sex&#x27;, &#x27;Education&#x27;,\n",
              "                                  &#x27;Income&#x27;, &#x27;Age&#x27;, &#x27;PhysHlth&#x27;, &#x27;MentHlth&#x27;,\n",
              "                                  &#x27;GenHlth&#x27;])])</pre></div></div></div><div class=\"sk-parallel\"><div class=\"sk-parallel-item\"><div class=\"sk-item\"><div class=\"sk-label-container\"><div class=\"sk-label sk-toggleable\"><input class=\"sk-toggleable__control sk-hidden--visually\" id=\"77b651d9-6fa7-40ef-9706-5debcb07ca84\" type=\"checkbox\" ><label for=\"77b651d9-6fa7-40ef-9706-5debcb07ca84\" class=\"sk-toggleable__label sk-toggleable__label-arrow\">num</label><div class=\"sk-toggleable__content\"><pre>[&#x27;BMI&#x27;]</pre></div></div></div><div class=\"sk-serial\"><div class=\"sk-item\"><div class=\"sk-serial\"><div class=\"sk-item\"><div class=\"sk-estimator sk-toggleable\"><input class=\"sk-toggleable__control sk-hidden--visually\" id=\"6e93961e-dca8-4ae7-ae58-b56d1bd38ed2\" type=\"checkbox\" ><label for=\"6e93961e-dca8-4ae7-ae58-b56d1bd38ed2\" class=\"sk-toggleable__label sk-toggleable__label-arrow\">SimpleImputer</label><div class=\"sk-toggleable__content\"><pre>SimpleImputer(strategy=&#x27;median&#x27;)</pre></div></div></div><div class=\"sk-item\"><div class=\"sk-estimator sk-toggleable\"><input class=\"sk-toggleable__control sk-hidden--visually\" id=\"a4a720fc-cb31-427c-9b4f-8010a7834479\" type=\"checkbox\" ><label for=\"a4a720fc-cb31-427c-9b4f-8010a7834479\" class=\"sk-toggleable__label sk-toggleable__label-arrow\">StandardScaler</label><div class=\"sk-toggleable__content\"><pre>StandardScaler()</pre></div></div></div></div></div></div></div></div><div class=\"sk-parallel-item\"><div class=\"sk-item\"><div class=\"sk-label-container\"><div class=\"sk-label sk-toggleable\"><input class=\"sk-toggleable__control sk-hidden--visually\" id=\"b8f0aa0c-6ff5-475f-96fd-bbb825c29eeb\" type=\"checkbox\" ><label for=\"b8f0aa0c-6ff5-475f-96fd-bbb825c29eeb\" class=\"sk-toggleable__label sk-toggleable__label-arrow\">cat</label><div class=\"sk-toggleable__content\"><pre>[&#x27;HighBP&#x27;, &#x27;HighChol&#x27;, &#x27;CholCheck&#x27;, &#x27;Smoker&#x27;, &#x27;Stroke&#x27;, &#x27;HeartDiseaseorAttack&#x27;, &#x27;PhysActivity&#x27;, &#x27;Fruits&#x27;, &#x27;Veggies&#x27;, &#x27;HvyAlcoholConsump&#x27;, &#x27;AnyHealthcare&#x27;, &#x27;NoDocbcCost&#x27;, &#x27;DiffWalk&#x27;, &#x27;Sex&#x27;, &#x27;Education&#x27;, &#x27;Income&#x27;, &#x27;Age&#x27;, &#x27;PhysHlth&#x27;, &#x27;MentHlth&#x27;, &#x27;GenHlth&#x27;]</pre></div></div></div><div class=\"sk-serial\"><div class=\"sk-item\"><div class=\"sk-serial\"><div class=\"sk-item\"><div class=\"sk-estimator sk-toggleable\"><input class=\"sk-toggleable__control sk-hidden--visually\" id=\"3464b31f-9c15-414c-82d3-f047f7044f19\" type=\"checkbox\" ><label for=\"3464b31f-9c15-414c-82d3-f047f7044f19\" class=\"sk-toggleable__label sk-toggleable__label-arrow\">SimpleImputer</label><div class=\"sk-toggleable__content\"><pre>SimpleImputer(strategy=&#x27;most_frequent&#x27;)</pre></div></div></div><div class=\"sk-item\"><div class=\"sk-estimator sk-toggleable\"><input class=\"sk-toggleable__control sk-hidden--visually\" id=\"f2bf2592-f0bf-4599-bc4d-0ffaf5200f30\" type=\"checkbox\" ><label for=\"f2bf2592-f0bf-4599-bc4d-0ffaf5200f30\" class=\"sk-toggleable__label sk-toggleable__label-arrow\">OneHotEncoder</label><div class=\"sk-toggleable__content\"><pre>OneHotEncoder(sparse=False)</pre></div></div></div></div></div></div></div></div></div></div></div></div>"
            ],
            "text/plain": [
              "ColumnTransformer(transformers=[('num',\n",
              "                                 Pipeline(steps=[('imputer',\n",
              "                                                  SimpleImputer(strategy='median')),\n",
              "                                                 ('scaler', StandardScaler())]),\n",
              "                                 ['BMI']),\n",
              "                                ('cat',\n",
              "                                 Pipeline(steps=[('imputer',\n",
              "                                                  SimpleImputer(strategy='most_frequent')),\n",
              "                                                 ('cat_encoder',\n",
              "                                                  OneHotEncoder(sparse=False))]),\n",
              "                                 ['HighBP', 'HighChol', 'CholCheck', 'Smoker',\n",
              "                                  'Stroke', 'HeartDiseaseorAttack',\n",
              "                                  'PhysActivity', 'Fruits', 'Veggies',\n",
              "                                  'HvyAlcoholConsump', 'AnyHealthcare',\n",
              "                                  'NoDocbcCost', 'DiffWalk', 'Sex', 'Education',\n",
              "                                  'Income', 'Age', 'PhysHlth', 'MentHlth',\n",
              "                                  'GenHlth'])])"
            ]
          },
          "execution_count": 101,
          "metadata": {},
          "output_type": "execute_result"
        }
      ],
      "source": [
        "from sklearn.pipeline import Pipeline\n",
        "from sklearn.impute import SimpleImputer\n",
        "from sklearn.preprocessing import StandardScaler, OneHotEncoder\n",
        "from sklearn.compose import ColumnTransformer, make_column_selector\n",
        "from sklearn.pipeline import make_pipeline\n",
        "\n",
        "from sklearn.linear_model import LinearRegression \n",
        "from sklearn.ensemble import RandomForestClassifier\n",
        "from sklearn.linear_model import LogisticRegression\n",
        "from sklearn.neighbors import KNeighborsClassifier\n",
        "from sklearn.model_selection import GridSearchCV\n",
        "\n",
        "from sklearn import set_config\n",
        "set_config(display='diagram') # shows the pipeline graphically when printed\n",
        "\n",
        "num_pipeline = Pipeline([\n",
        "        ('imputer', SimpleImputer(strategy='median')),\n",
        "        ('scaler', StandardScaler())\n",
        "    ])\n",
        "cat_pipeline = Pipeline([\n",
        "        ('imputer', SimpleImputer(strategy='most_frequent')),\n",
        "        ('cat_encoder', OneHotEncoder(sparse=False)) # returns a \n",
        "        # regular matrix that can be combined easily with the data we get from \n",
        "        # the numeric pipeline\n",
        "    ])\n",
        "\n",
        "num_attribs = ['BMI']\n",
        "cat_attribs = ['HighBP', 'HighChol', 'CholCheck', 'Smoker', 'Stroke', 'HeartDiseaseorAttack', 'PhysActivity', 'Fruits', 'Veggies', 'HvyAlcoholConsump', 'AnyHealthcare', 'NoDocbcCost', 'DiffWalk', 'Sex', 'Education', 'Income', 'Age', 'PhysHlth', 'MentHlth', 'GenHlth']\n",
        "SimpleImputer.get_feature_names_out = StandardScaler.get_feature_names_out  # \n",
        "\n",
        "preprocess_pipeline = ColumnTransformer([\n",
        "    ('num', num_pipeline, num_attribs),\n",
        "    ('cat', cat_pipeline, cat_attribs)\n",
        "])\n",
        "\n",
        "preprocess_pipeline"
      ]
    },
    {
      "cell_type": "code",
      "execution_count": null,
      "metadata": {
        "colab": {
          "base_uri": "https://localhost:8080/",
          "height": 317
        },
        "id": "cGR86Fhe73xa",
        "outputId": "4491b40d-5ecd-4691-ce70-522a419f9079"
      },
      "outputs": [
        {
          "name": "stdout",
          "output_type": "stream",
          "text": [
            "(202944, 123)\n"
          ]
        },
        {
          "data": {
            "text/html": [
              "\n",
              "  <div id=\"df-fa975eba-80ec-4e2d-881f-25e8d2055bbf\">\n",
              "    <div class=\"colab-df-container\">\n",
              "      <div>\n",
              "<style scoped>\n",
              "    .dataframe tbody tr th:only-of-type {\n",
              "        vertical-align: middle;\n",
              "    }\n",
              "\n",
              "    .dataframe tbody tr th {\n",
              "        vertical-align: top;\n",
              "    }\n",
              "\n",
              "    .dataframe thead th {\n",
              "        text-align: right;\n",
              "    }\n",
              "</style>\n",
              "<table border=\"1\" class=\"dataframe\">\n",
              "  <thead>\n",
              "    <tr style=\"text-align: right;\">\n",
              "      <th></th>\n",
              "      <th>num__BMI</th>\n",
              "      <th>cat__HighBP_0.0</th>\n",
              "      <th>cat__HighBP_1.0</th>\n",
              "      <th>cat__HighChol_0.0</th>\n",
              "      <th>cat__HighChol_1.0</th>\n",
              "      <th>cat__CholCheck_0.0</th>\n",
              "      <th>cat__CholCheck_1.0</th>\n",
              "      <th>cat__Smoker_0.0</th>\n",
              "      <th>cat__Smoker_1.0</th>\n",
              "      <th>cat__Stroke_0.0</th>\n",
              "      <th>...</th>\n",
              "      <th>cat__MentHlth_26.0</th>\n",
              "      <th>cat__MentHlth_27.0</th>\n",
              "      <th>cat__MentHlth_28.0</th>\n",
              "      <th>cat__MentHlth_29.0</th>\n",
              "      <th>cat__MentHlth_30.0</th>\n",
              "      <th>cat__GenHlth_1.0</th>\n",
              "      <th>cat__GenHlth_2.0</th>\n",
              "      <th>cat__GenHlth_3.0</th>\n",
              "      <th>cat__GenHlth_4.0</th>\n",
              "      <th>cat__GenHlth_5.0</th>\n",
              "    </tr>\n",
              "  </thead>\n",
              "  <tbody>\n",
              "    <tr>\n",
              "      <th>160780</th>\n",
              "      <td>-0.360490</td>\n",
              "      <td>1.0</td>\n",
              "      <td>0.0</td>\n",
              "      <td>1.0</td>\n",
              "      <td>0.0</td>\n",
              "      <td>0.0</td>\n",
              "      <td>1.0</td>\n",
              "      <td>0.0</td>\n",
              "      <td>1.0</td>\n",
              "      <td>1.0</td>\n",
              "      <td>...</td>\n",
              "      <td>0.0</td>\n",
              "      <td>0.0</td>\n",
              "      <td>0.0</td>\n",
              "      <td>0.0</td>\n",
              "      <td>0.0</td>\n",
              "      <td>0.0</td>\n",
              "      <td>1.0</td>\n",
              "      <td>0.0</td>\n",
              "      <td>0.0</td>\n",
              "      <td>0.0</td>\n",
              "    </tr>\n",
              "    <tr>\n",
              "      <th>249661</th>\n",
              "      <td>0.395475</td>\n",
              "      <td>1.0</td>\n",
              "      <td>0.0</td>\n",
              "      <td>1.0</td>\n",
              "      <td>0.0</td>\n",
              "      <td>0.0</td>\n",
              "      <td>1.0</td>\n",
              "      <td>1.0</td>\n",
              "      <td>0.0</td>\n",
              "      <td>1.0</td>\n",
              "      <td>...</td>\n",
              "      <td>0.0</td>\n",
              "      <td>0.0</td>\n",
              "      <td>0.0</td>\n",
              "      <td>0.0</td>\n",
              "      <td>0.0</td>\n",
              "      <td>0.0</td>\n",
              "      <td>0.0</td>\n",
              "      <td>1.0</td>\n",
              "      <td>0.0</td>\n",
              "      <td>0.0</td>\n",
              "    </tr>\n",
              "    <tr>\n",
              "      <th>26769</th>\n",
              "      <td>-0.662876</td>\n",
              "      <td>1.0</td>\n",
              "      <td>0.0</td>\n",
              "      <td>1.0</td>\n",
              "      <td>0.0</td>\n",
              "      <td>0.0</td>\n",
              "      <td>1.0</td>\n",
              "      <td>1.0</td>\n",
              "      <td>0.0</td>\n",
              "      <td>1.0</td>\n",
              "      <td>...</td>\n",
              "      <td>0.0</td>\n",
              "      <td>0.0</td>\n",
              "      <td>0.0</td>\n",
              "      <td>0.0</td>\n",
              "      <td>0.0</td>\n",
              "      <td>1.0</td>\n",
              "      <td>0.0</td>\n",
              "      <td>0.0</td>\n",
              "      <td>0.0</td>\n",
              "      <td>0.0</td>\n",
              "    </tr>\n",
              "    <tr>\n",
              "      <th>182771</th>\n",
              "      <td>-0.662876</td>\n",
              "      <td>0.0</td>\n",
              "      <td>1.0</td>\n",
              "      <td>1.0</td>\n",
              "      <td>0.0</td>\n",
              "      <td>0.0</td>\n",
              "      <td>1.0</td>\n",
              "      <td>0.0</td>\n",
              "      <td>1.0</td>\n",
              "      <td>1.0</td>\n",
              "      <td>...</td>\n",
              "      <td>0.0</td>\n",
              "      <td>0.0</td>\n",
              "      <td>0.0</td>\n",
              "      <td>0.0</td>\n",
              "      <td>0.0</td>\n",
              "      <td>0.0</td>\n",
              "      <td>0.0</td>\n",
              "      <td>1.0</td>\n",
              "      <td>0.0</td>\n",
              "      <td>0.0</td>\n",
              "    </tr>\n",
              "    <tr>\n",
              "      <th>117116</th>\n",
              "      <td>-0.058104</td>\n",
              "      <td>0.0</td>\n",
              "      <td>1.0</td>\n",
              "      <td>0.0</td>\n",
              "      <td>1.0</td>\n",
              "      <td>0.0</td>\n",
              "      <td>1.0</td>\n",
              "      <td>1.0</td>\n",
              "      <td>0.0</td>\n",
              "      <td>1.0</td>\n",
              "      <td>...</td>\n",
              "      <td>0.0</td>\n",
              "      <td>0.0</td>\n",
              "      <td>0.0</td>\n",
              "      <td>0.0</td>\n",
              "      <td>0.0</td>\n",
              "      <td>0.0</td>\n",
              "      <td>0.0</td>\n",
              "      <td>1.0</td>\n",
              "      <td>0.0</td>\n",
              "      <td>0.0</td>\n",
              "    </tr>\n",
              "  </tbody>\n",
              "</table>\n",
              "<p>5 rows × 123 columns</p>\n",
              "</div>\n",
              "      <button class=\"colab-df-convert\" onclick=\"convertToInteractive('df-fa975eba-80ec-4e2d-881f-25e8d2055bbf')\"\n",
              "              title=\"Convert this dataframe to an interactive table.\"\n",
              "              style=\"display:none;\">\n",
              "        \n",
              "  <svg xmlns=\"http://www.w3.org/2000/svg\" height=\"24px\"viewBox=\"0 0 24 24\"\n",
              "       width=\"24px\">\n",
              "    <path d=\"M0 0h24v24H0V0z\" fill=\"none\"/>\n",
              "    <path d=\"M18.56 5.44l.94 2.06.94-2.06 2.06-.94-2.06-.94-.94-2.06-.94 2.06-2.06.94zm-11 1L8.5 8.5l.94-2.06 2.06-.94-2.06-.94L8.5 2.5l-.94 2.06-2.06.94zm10 10l.94 2.06.94-2.06 2.06-.94-2.06-.94-.94-2.06-.94 2.06-2.06.94z\"/><path d=\"M17.41 7.96l-1.37-1.37c-.4-.4-.92-.59-1.43-.59-.52 0-1.04.2-1.43.59L10.3 9.45l-7.72 7.72c-.78.78-.78 2.05 0 2.83L4 21.41c.39.39.9.59 1.41.59.51 0 1.02-.2 1.41-.59l7.78-7.78 2.81-2.81c.8-.78.8-2.07 0-2.86zM5.41 20L4 18.59l7.72-7.72 1.47 1.35L5.41 20z\"/>\n",
              "  </svg>\n",
              "      </button>\n",
              "      \n",
              "  <style>\n",
              "    .colab-df-container {\n",
              "      display:flex;\n",
              "      flex-wrap:wrap;\n",
              "      gap: 12px;\n",
              "    }\n",
              "\n",
              "    .colab-df-convert {\n",
              "      background-color: #E8F0FE;\n",
              "      border: none;\n",
              "      border-radius: 50%;\n",
              "      cursor: pointer;\n",
              "      display: none;\n",
              "      fill: #1967D2;\n",
              "      height: 32px;\n",
              "      padding: 0 0 0 0;\n",
              "      width: 32px;\n",
              "    }\n",
              "\n",
              "    .colab-df-convert:hover {\n",
              "      background-color: #E2EBFA;\n",
              "      box-shadow: 0px 1px 2px rgba(60, 64, 67, 0.3), 0px 1px 3px 1px rgba(60, 64, 67, 0.15);\n",
              "      fill: #174EA6;\n",
              "    }\n",
              "\n",
              "    [theme=dark] .colab-df-convert {\n",
              "      background-color: #3B4455;\n",
              "      fill: #D2E3FC;\n",
              "    }\n",
              "\n",
              "    [theme=dark] .colab-df-convert:hover {\n",
              "      background-color: #434B5C;\n",
              "      box-shadow: 0px 1px 3px 1px rgba(0, 0, 0, 0.15);\n",
              "      filter: drop-shadow(0px 1px 2px rgba(0, 0, 0, 0.3));\n",
              "      fill: #FFFFFF;\n",
              "    }\n",
              "  </style>\n",
              "\n",
              "      <script>\n",
              "        const buttonEl =\n",
              "          document.querySelector('#df-fa975eba-80ec-4e2d-881f-25e8d2055bbf button.colab-df-convert');\n",
              "        buttonEl.style.display =\n",
              "          google.colab.kernel.accessAllowed ? 'block' : 'none';\n",
              "\n",
              "        async function convertToInteractive(key) {\n",
              "          const element = document.querySelector('#df-fa975eba-80ec-4e2d-881f-25e8d2055bbf');\n",
              "          const dataTable =\n",
              "            await google.colab.kernel.invokeFunction('convertToInteractive',\n",
              "                                                     [key], {});\n",
              "          if (!dataTable) return;\n",
              "\n",
              "          const docLinkHtml = 'Like what you see? Visit the ' +\n",
              "            '<a target=\"_blank\" href=https://colab.research.google.com/notebooks/data_table.ipynb>data table notebook</a>'\n",
              "            + ' to learn more about interactive tables.';\n",
              "          element.innerHTML = '';\n",
              "          dataTable['output_type'] = 'display_data';\n",
              "          await google.colab.output.renderOutput(dataTable, element);\n",
              "          const docLink = document.createElement('div');\n",
              "          docLink.innerHTML = docLinkHtml;\n",
              "          element.appendChild(docLink);\n",
              "        }\n",
              "      </script>\n",
              "    </div>\n",
              "  </div>\n",
              "  "
            ],
            "text/plain": [
              "        num__BMI  cat__HighBP_0.0  cat__HighBP_1.0  cat__HighChol_0.0  \\\n",
              "160780 -0.360490              1.0              0.0                1.0   \n",
              "249661  0.395475              1.0              0.0                1.0   \n",
              "26769  -0.662876              1.0              0.0                1.0   \n",
              "182771 -0.662876              0.0              1.0                1.0   \n",
              "117116 -0.058104              0.0              1.0                0.0   \n",
              "\n",
              "        cat__HighChol_1.0  cat__CholCheck_0.0  cat__CholCheck_1.0  \\\n",
              "160780                0.0                 0.0                 1.0   \n",
              "249661                0.0                 0.0                 1.0   \n",
              "26769                 0.0                 0.0                 1.0   \n",
              "182771                0.0                 0.0                 1.0   \n",
              "117116                1.0                 0.0                 1.0   \n",
              "\n",
              "        cat__Smoker_0.0  cat__Smoker_1.0  cat__Stroke_0.0  ...  \\\n",
              "160780              0.0              1.0              1.0  ...   \n",
              "249661              1.0              0.0              1.0  ...   \n",
              "26769               1.0              0.0              1.0  ...   \n",
              "182771              0.0              1.0              1.0  ...   \n",
              "117116              1.0              0.0              1.0  ...   \n",
              "\n",
              "        cat__MentHlth_26.0  cat__MentHlth_27.0  cat__MentHlth_28.0  \\\n",
              "160780                 0.0                 0.0                 0.0   \n",
              "249661                 0.0                 0.0                 0.0   \n",
              "26769                  0.0                 0.0                 0.0   \n",
              "182771                 0.0                 0.0                 0.0   \n",
              "117116                 0.0                 0.0                 0.0   \n",
              "\n",
              "        cat__MentHlth_29.0  cat__MentHlth_30.0  cat__GenHlth_1.0  \\\n",
              "160780                 0.0                 0.0               0.0   \n",
              "249661                 0.0                 0.0               0.0   \n",
              "26769                  0.0                 0.0               1.0   \n",
              "182771                 0.0                 0.0               0.0   \n",
              "117116                 0.0                 0.0               0.0   \n",
              "\n",
              "        cat__GenHlth_2.0  cat__GenHlth_3.0  cat__GenHlth_4.0  cat__GenHlth_5.0  \n",
              "160780               1.0               0.0               0.0               0.0  \n",
              "249661               0.0               1.0               0.0               0.0  \n",
              "26769                0.0               0.0               0.0               0.0  \n",
              "182771               0.0               1.0               0.0               0.0  \n",
              "117116               0.0               1.0               0.0               0.0  \n",
              "\n",
              "[5 rows x 123 columns]"
            ]
          },
          "execution_count": 97,
          "metadata": {},
          "output_type": "execute_result"
        }
      ],
      "source": [
        "X_train = preprocess_pipeline.fit_transform(train_X)\n",
        "y_train = train_y.values\n",
        "\n",
        "processed_X = preprocess_pipeline.fit_transform(train_X)\n",
        "processed_X_test = preprocess_pipeline.transform(test_X)\n",
        "\n",
        "df_processed_X = pd.DataFrame(processed_X, \n",
        "                              columns = preprocess_pipeline.get_feature_names_out(),\n",
        "                              index = train_X.index)\n",
        "print(df_processed_X.shape)\n",
        "df_processed_X.head()"
      ]
    },
    {
      "cell_type": "markdown",
      "metadata": {
        "id": "xe5heeKfeNXw"
      },
      "source": [
        "# 10.Models\n",
        "When we were exploring the dataset, we tested several models which we felt was relavent to the categorical nature of our dataset, for which we ran the following models: Logistic Regression, KNN, Random Forest, Decision Tree and SVM, out of which we went ahead with Logistic Regression, KNN and Random Forest due to their computational ease.. \n",
        "\n",
        "As mentioned above, due to the imbalanced nature of our dataset, we decided that balanced accuracy would be a better way to assess the performance of our models. We chose not to go to forward with some of our models, for instance Linear Regression couldn't be run because almost all our variables are categorical, while SVM took too much computing power and time to run due to the large size of our dataset.\n",
        "\n",
        "Below you can see how they each performed with the balanced accuracy scores mentioned. Overall, the model we decided to go ahead with was Random Forest due to the balanced accuracy score. This can be justified by the nature of the model itself, as random forest adds addtional randomness to the model while growing trees, which reduces the overfitting problem in decision trees and lessens the variance. "
      ]
    },
    {
      "cell_type": "markdown",
      "metadata": {
        "id": "Am28KeTQNe0y"
      },
      "source": [
        "##10.1Feature Selection\n",
        "\n",
        "We ran feature selection below, as in the initial phase 1 of our presentation, we mentioned that we will require this to understand which of our columns and variables are significant. Feature Selection is the method of reducing the input variable to your model by using only relevant data and getting rid of noise in data.\n",
        "\n",
        "It is the process of automatically choosing relevant features for your machine learning model based on the type of problem you are trying to solve. We do this by including or excluding important features without changing them. It helps in cutting down the noise in our data and reducing the size of our input data.\n",
        "\n",
        "After running this below, we received a list of all the variables of significance, with numerical BMI, categorical HighBP and categorical HighChol ranking the highest. "
      ]
    },
    {
      "cell_type": "code",
      "execution_count": null,
      "metadata": {
        "colab": {
          "base_uri": "https://localhost:8080/"
        },
        "id": "yKJBtrni8YQg",
        "outputId": "6b50faf9-6d4b-43fe-d758-33f711e48f04"
      },
      "outputs": [
        {
          "name": "stdout",
          "output_type": "stream",
          "text": [
            "balanced acc of training set: 0.9814\n",
            "balanced acc of testing set: 0.5797\n"
          ]
        }
      ],
      "source": [
        "from sklearn.ensemble import RandomForestClassifier\n",
        "from sklearn import datasets\n",
        "from sklearn.feature_selection import SelectFromModel\n",
        "from sklearn.metrics import accuracy_score\n",
        "from sklearn.metrics import accuracy_score, balanced_accuracy_score\n",
        "\n",
        "clf = RandomForestClassifier(n_estimators=100, random_state=42)\n",
        "clf.fit(X_train, y_train)\n",
        "y_test_pred = clf.predict(processed_X_test)\n",
        "y_pred = clf.predict(X_train)\n",
        "print('balanced acc of training set:', round(balanced_accuracy_score(y_train, y_pred), 4))\n",
        "print('balanced acc of testing set:', round(balanced_accuracy_score(test_y, y_test_pred), 4))"
      ]
    },
    {
      "cell_type": "code",
      "execution_count": null,
      "metadata": {
        "colab": {
          "base_uri": "https://localhost:8080/"
        },
        "id": "pzjep-2Z8tAQ",
        "outputId": "508813b7-2510-4ec3-a5fe-f43db67f0e64"
      },
      "outputs": [
        {
          "name": "stdout",
          "output_type": "stream",
          "text": [
            "Below are the important features that have an importance threshold higher than 0.01\n",
            "num__BMI\n",
            "cat__HighBP_0.0\n",
            "cat__HighBP_1.0\n",
            "cat__HighChol_0.0\n",
            "cat__HighChol_1.0\n",
            "cat__Smoker_0.0\n",
            "cat__Smoker_1.0\n",
            "cat__PhysActivity_0.0\n",
            "cat__PhysActivity_1.0\n",
            "cat__Fruits_0.0\n",
            "cat__Fruits_1.0\n",
            "cat__Veggies_0.0\n",
            "cat__Veggies_1.0\n",
            "cat__DiffWalk_0.0\n",
            "cat__DiffWalk_1.0\n",
            "cat__Sex_0.0\n",
            "cat__Sex_1.0\n",
            "cat__Education_4.0\n",
            "cat__Education_5.0\n",
            "cat__Education_6.0\n",
            "cat__Income_3.0\n",
            "cat__Income_4.0\n",
            "cat__Income_5.0\n",
            "cat__Income_6.0\n",
            "cat__Income_7.0\n",
            "cat__Income_8.0\n",
            "cat__Age_7.0\n",
            "cat__Age_8.0\n",
            "cat__Age_9.0\n",
            "cat__Age_10.0\n",
            "cat__Age_11.0\n",
            "cat__Age_12.0\n",
            "cat__Age_13.0\n",
            "cat__PhysHlth_0.0\n",
            "cat__PhysHlth_30.0\n",
            "cat__MentHlth_0.0\n",
            "cat__GenHlth_2.0\n",
            "cat__GenHlth_3.0\n",
            "cat__GenHlth_4.0\n"
          ]
        }
      ],
      "source": [
        "feat_labels = preprocess_pipeline.get_feature_names_out()\n",
        "\n",
        "features = []\n",
        "for feature in zip(feat_labels, clf.feature_importances_):\n",
        "    features.append(feature)\n",
        "features = pd.DataFrame(features)\n",
        "\n",
        "sfm = SelectFromModel(clf, threshold=0.01)\n",
        "sfm.fit(X_train, y_train)\n",
        "\n",
        "print('Below are the important features that have an importance threshold higher than 0.01')\n",
        "for feature_list_index in sfm.get_support(indices=True):\n",
        "    print(feat_labels[feature_list_index])"
      ]
    },
    {
      "cell_type": "markdown",
      "metadata": {
        "id": "1fBvAFeCJOAk"
      },
      "source": [
        "Below is the test error after cross validation, which is 57.8%, meaning that the prediction is 57.8% correct."
      ]
    },
    {
      "cell_type": "code",
      "execution_count": null,
      "metadata": {
        "colab": {
          "base_uri": "https://localhost:8080/"
        },
        "id": "Oab9XOAB9Apa",
        "outputId": "b160ad0c-44de-4911-b60b-093eadb3f0f2"
      },
      "outputs": [
        {
          "data": {
            "text/plain": [
              "0.9644"
            ]
          },
          "execution_count": 103,
          "metadata": {},
          "output_type": "execute_result"
        }
      ],
      "source": [
        "X_important_train = sfm.fit_transform(X_train,y_train)\n",
        "clf.fit(X_important_train, y_train)\n",
        "y_pred = clf.predict(X_important_train)\n",
        "round(balanced_accuracy_score(y_train, y_pred), 4)"
      ]
    },
    {
      "cell_type": "code",
      "execution_count": null,
      "metadata": {
        "colab": {
          "base_uri": "https://localhost:8080/"
        },
        "id": "trQZIteoNK8S",
        "outputId": "da7b0306-7aa4-4897-b1b7-d514978d6983"
      },
      "outputs": [
        {
          "data": {
            "text/plain": [
              "(50736, 103)"
            ]
          },
          "execution_count": 92,
          "metadata": {},
          "output_type": "execute_result"
        }
      ],
      "source": [
        "processed_X_test = preprocess_pipeline.transform(test_X)\n",
        "processed_X_test.shape\n"
      ]
    },
    {
      "cell_type": "code",
      "execution_count": null,
      "metadata": {
        "id": "tAlkvgXAO4dU"
      },
      "outputs": [],
      "source": [
        "processed_X_test = sfm.transform(processed_X_test)"
      ]
    },
    {
      "cell_type": "code",
      "execution_count": null,
      "metadata": {
        "colab": {
          "base_uri": "https://localhost:8080/"
        },
        "id": "5iJhyyB4O9aI",
        "outputId": "6bb08de9-0f1e-4977-f9ab-50e39e223683"
      },
      "outputs": [
        {
          "data": {
            "text/plain": [
              "(50736, 39)"
            ]
          },
          "execution_count": 105,
          "metadata": {},
          "output_type": "execute_result"
        }
      ],
      "source": [
        "processed_X_test.shape"
      ]
    },
    {
      "cell_type": "code",
      "execution_count": null,
      "metadata": {
        "colab": {
          "base_uri": "https://localhost:8080/"
        },
        "id": "KWPSIHM0NvT_",
        "outputId": "288730b9-2063-48bc-9dab-5c63bde586b7"
      },
      "outputs": [
        {
          "data": {
            "text/plain": [
              "(50736, 39)"
            ]
          },
          "execution_count": 106,
          "metadata": {},
          "output_type": "execute_result"
        }
      ],
      "source": [
        "processed_X_test.shape"
      ]
    },
    {
      "cell_type": "code",
      "execution_count": null,
      "metadata": {
        "id": "t_896nhuLT3j"
      },
      "outputs": [],
      "source": [
        "X_important_test =sfm.fit_transform(test_X,test_y)"
      ]
    },
    {
      "cell_type": "code",
      "execution_count": null,
      "metadata": {
        "colab": {
          "base_uri": "https://localhost:8080/"
        },
        "id": "OOriKU13KTK3",
        "outputId": "a2864be6-ede6-4251-f60e-7e9ce79bce8f"
      },
      "outputs": [
        {
          "data": {
            "text/plain": [
              "0.5754"
            ]
          },
          "execution_count": 108,
          "metadata": {},
          "output_type": "execute_result"
        }
      ],
      "source": [
        "from sklearn.model_selection import cross_val_score\n",
        "cross_val_scores = cross_val_score(RandomForestClassifier(n_estimators=100, random_state=42), X_important_train, y_train, cv=10, scoring='balanced_accuracy')\n",
        "cross_val_scores.mean().round(4)"
      ]
    },
    {
      "cell_type": "code",
      "execution_count": null,
      "metadata": {
        "id": "1E-dODrxJuO1"
      },
      "outputs": [],
      "source": [
        "X_important_test = sfm.transform(test_X)"
      ]
    },
    {
      "cell_type": "markdown",
      "metadata": {
        "id": "UBmWplthM4PV"
      },
      "source": [
        "##10.2Random Forest\n",
        "(BA - 0.575)\n",
        "\n",
        "We decided to test the accuracy of Random Forest Classification. Random Forest grows and combines multiple decision trees to create a “forest\". In order to run this, we needed to first create a full pipeline to fit this classification model. Next, we calculated the accuracy score and we got 99% - this is an oddly high value, so we figured there might be a problem with our class imbalance. This led us to find balanced accuracy for the model: without cross-validation, we get 97.85%, but with cross-validation we get 57.9% accuracy which is a more normal value. We also ran a confusion matrix to help us visualize better the number of true positives and true negatives."
      ]
    },
    {
      "cell_type": "markdown",
      "metadata": {
        "id": "PM_fQGvWF_nm"
      },
      "source": [
        "This is our training confusion matrix. Though we don't need predicitons for training, we used this for our own understanding and comparision."
      ]
    },
    {
      "cell_type": "code",
      "execution_count": null,
      "metadata": {
        "colab": {
          "base_uri": "https://localhost:8080/",
          "height": 303
        },
        "id": "PF7BEQTz-4LN",
        "outputId": "ef5115ed-936b-4560-a421-7bbd7660b68f"
      },
      "outputs": [
        {
          "name": "stdout",
          "output_type": "stream",
          "text": [
            "The Balanced accuracy of Random Forest on trainset is 96.44\n"
          ]
        },
        {
          "data": {
            "image/png": "[encoded data removed]",
            "text/plain": [
              "<Figure size 432x288 with 2 Axes>"
            ]
          },
          "metadata": {},
          "output_type": "display_data"
        }
      ],
      "source": [
        "from sklearn.metrics import ConfusionMatrixDisplay\n",
        "\n",
        "print(\"The Balanced accuracy of Random Forest on trainset is\",round(balanced_accuracy_score(y_train, y_pred)*100, 2))\n",
        "ConfusionMatrixDisplay.from_predictions(y_train, y_pred);"
      ]
    },
    {
      "cell_type": "code",
      "execution_count": null,
      "metadata": {
        "colab": {
          "base_uri": "https://localhost:8080/",
          "height": 303
        },
        "id": "2i1rwmPZGS9B",
        "outputId": "fcba523d-8876-4e93-b85c-8a8ad06f6921"
      },
      "outputs": [
        {
          "name": "stdout",
          "output_type": "stream",
          "text": [
            "The Balanced accuracy of Random Forest on trainset is 57.97\n"
          ]
        },
        {
          "data": {
            "image/png": "[encoded data removed]",
            "text/plain": [
              "<Figure size 432x288 with 2 Axes>"
            ]
          },
          "metadata": {},
          "output_type": "display_data"
        }
      ],
      "source": [
        "#for testing confusion matrix\n",
        "from sklearn.metrics import ConfusionMatrixDisplay\n",
        "\n",
        "print(\"The Balanced accuracy of Random Forest on trainset is\",round(balanced_accuracy_score(test_y, y_test_pred)*100, 2))\n",
        "ConfusionMatrixDisplay.from_predictions(test_y, y_test_pred);"
      ]
    },
    {
      "cell_type": "code",
      "execution_count": null,
      "metadata": {
        "colab": {
          "base_uri": "https://localhost:8080/"
        },
        "id": "4XX_ja4a-9jB",
        "outputId": "f73fa60e-5c7a-48a2-9a6b-d88be4e4bdb9"
      },
      "outputs": [
        {
          "name": "stdout",
          "output_type": "stream",
          "text": [
            "              precision    recall  f1-score   support\n",
            "\n",
            "         0.0       0.99      1.00      0.99    171086\n",
            "         1.0       0.99      0.93      0.96     31858\n",
            "\n",
            "    accuracy                           0.99    202944\n",
            "   macro avg       0.99      0.96      0.98    202944\n",
            "weighted avg       0.99      0.99      0.99    202944\n",
            "\n"
          ]
        }
      ],
      "source": [
        "from sklearn.metrics import classification_report\n",
        "print(classification_report(y_train, y_pred))"
      ]
    },
    {
      "cell_type": "code",
      "execution_count": null,
      "metadata": {
        "colab": {
          "base_uri": "https://localhost:8080/"
        },
        "id": "npjadSU0Gpzy",
        "outputId": "a7c37c60-e5fc-4d3b-e000-818a1dd3c3f4"
      },
      "outputs": [
        {
          "name": "stdout",
          "output_type": "stream",
          "text": [
            "              precision    recall  f1-score   support\n",
            "\n",
            "         0.0       0.86      0.96      0.91     42617\n",
            "         1.0       0.51      0.19      0.28      8119\n",
            "\n",
            "    accuracy                           0.84     50736\n",
            "   macro avg       0.69      0.58      0.60     50736\n",
            "weighted avg       0.81      0.84      0.81     50736\n",
            "\n"
          ]
        }
      ],
      "source": [
        "#for testing data\n",
        "from sklearn.metrics import classification_report\n",
        "print(classification_report(test_y, y_test_pred))"
      ]
    },
    {
      "cell_type": "code",
      "execution_count": null,
      "metadata": {
        "colab": {
          "base_uri": "https://localhost:8080/",
          "height": 289
        },
        "id": "CTrQ8xny_HCy",
        "outputId": "1a94d0a7-7bfc-49d9-b04e-ad8ab3659e1a"
      },
      "outputs": [
        {
          "data": {
            "image/png": "[encoded data removed]",
            "text/plain": [
              "<Figure size 432x288 with 1 Axes>"
            ]
          },
          "metadata": {},
          "output_type": "display_data"
        }
      ],
      "source": [
        "from sklearn.metrics import RocCurveDisplay\n",
        "RocCurveDisplay.from_estimator(clf, X_important_train, y_train);"
      ]
    },
    {
      "cell_type": "code",
      "execution_count": null,
      "metadata": {
        "colab": {
          "base_uri": "https://localhost:8080/",
          "height": 289
        },
        "id": "JRsjgpxdG6nQ",
        "outputId": "819d74d8-7f04-4ef3-9b57-23d2afdacebf"
      },
      "outputs": [
        {
          "data": {
            "image/png": "[encoded data removed]",
            "text/plain": [
              "<Figure size 432x288 with 1 Axes>"
            ]
          },
          "metadata": {},
          "output_type": "display_data"
        }
      ],
      "source": [
        "#for test data\n",
        "from sklearn.metrics import RocCurveDisplay\n",
        "RocCurveDisplay.from_estimator(clf, processed_X_test, test_y);"
      ]
    },
    {
      "cell_type": "code",
      "execution_count": null,
      "metadata": {
        "colab": {
          "base_uri": "https://localhost:8080/"
        },
        "id": "zQ9pMSebMIUY",
        "outputId": "4fe39c6b-19bc-44cc-9ecf-57f5d01971fd"
      },
      "outputs": [
        {
          "data": {
            "text/plain": [
              "array([[ 0.,  0., 45., ...,  4.,  5.,  1.],\n",
              "       [ 0.,  0., 24., ..., 11.,  4.,  8.],\n",
              "       [ 0.,  0., 21., ...,  9.,  4.,  7.],\n",
              "       ...,\n",
              "       [ 0.,  0., 25., ...,  9.,  6.,  8.],\n",
              "       [ 1.,  0., 28., ...,  7.,  6.,  1.],\n",
              "       [ 1.,  1., 29., ..., 10.,  4.,  1.]])"
            ]
          },
          "execution_count": 116,
          "metadata": {},
          "output_type": "execute_result"
        }
      ],
      "source": [
        "X_important_test"
      ]
    },
    {
      "cell_type": "code",
      "execution_count": null,
      "metadata": {
        "colab": {
          "base_uri": "https://localhost:8080/"
        },
        "id": "zb_1m6Up_ydO",
        "outputId": "0adeefdc-beb1-4c37-be0b-4b2357797021"
      },
      "outputs": [
        {
          "data": {
            "text/plain": [
              "0.5754"
            ]
          },
          "execution_count": 118,
          "metadata": {},
          "output_type": "execute_result"
        }
      ],
      "source": [
        "from sklearn.model_selection import cross_val_score\n",
        "\n",
        "forest_scores = cross_val_score(clf, X_important_train, y_train, cv=10, scoring='balanced_accuracy')\n",
        "forest_scores.mean().round(4)"
      ]
    },
    {
      "cell_type": "code",
      "execution_count": null,
      "metadata": {
        "colab": {
          "base_uri": "https://localhost:8080/"
        },
        "id": "heCmDvVM_2sj",
        "outputId": "7745d5bb-a31b-47dc-ec62-1c13a0079444"
      },
      "outputs": [
        {
          "data": {
            "text/plain": [
              "0.5754"
            ]
          },
          "execution_count": 119,
          "metadata": {},
          "output_type": "execute_result"
        }
      ],
      "source": [
        "from sklearn.ensemble import RandomForestClassifier\n",
        "from sklearn.pipeline import make_pipeline\n",
        "\n",
        "rf_pipe = make_pipeline(RandomForestClassifier(n_estimators=100, random_state=42))\n",
        "rf_scores = cross_val_score(rf_pipe, X_important_train, y_train, cv=10, scoring='balanced_accuracy')\n",
        "rf_scores.mean().round(4)"
      ]
    },
    {
      "cell_type": "markdown",
      "metadata": {
        "id": "tyctgAdSNLWd"
      },
      "source": [
        "##10.3KNN\n",
        "(CV - 0.581)\n",
        "\n",
        "Now we are going to test a KNN Classification model. The k-nearest neighbor (KNN) model is a data classification method for estimating the likelihood that a data point will become a member of one group or another based on what group the data points nearest to it belong to. Since we already built the preprocessing pipeline, now we will just need to run the full pipeline with KNeighborsClassifier. The balanced accuracy is moderate at 65%."
      ]
    },
    {
      "cell_type": "code",
      "execution_count": null,
      "metadata": {
        "colab": {
          "base_uri": "https://localhost:8080/"
        },
        "id": "4JtW9EhONNk1",
        "outputId": "6322af20-acb0-4b0c-e7ab-076058e7509e"
      },
      "outputs": [
        {
          "data": {
            "text/plain": [
              "0.581"
            ]
          },
          "execution_count": 120,
          "metadata": {},
          "output_type": "execute_result"
        }
      ],
      "source": [
        "from sklearn.neighbors import KNeighborsClassifier\n",
        "from sklearn.pipeline import make_pipeline\n",
        "from sklearn.model_selection import cross_val_score\n",
        "\n",
        "knn_pipe = make_pipeline(KNeighborsClassifier())\n",
        "knn_scores = cross_val_score(knn_pipe, X_important_train, y_train, cv=3, scoring='balanced_accuracy')\n",
        "knn_scores.mean().round(4)"
      ]
    },
    {
      "cell_type": "markdown",
      "metadata": {
        "id": "GPZTm2JL8oqh"
      },
      "source": [
        "## 10.4Logistic Regression\n",
        "(CV - 0.565)\n",
        "\n",
        "Here we're testing a Logistic Regression model, which should work well with our classification dataset. A logistic regression model predicts a dependent data variable by analyzing the relationship between one or more existing independent variables. Since we already created the preprocessing pipeline above, we just needed to create the full Logistic Regression pipeline. Finally, we were able to calculate balanced accuracy with cross validation, which is 58%, for the model."
      ]
    },
    {
      "cell_type": "code",
      "execution_count": null,
      "metadata": {
        "colab": {
          "base_uri": "https://localhost:8080/"
        },
        "id": "zADJTXbOOKOD",
        "outputId": "4ce371a7-cb4a-44ba-e5f5-4b231a37c248"
      },
      "outputs": [
        {
          "data": {
            "text/plain": [
              "0.565"
            ]
          },
          "execution_count": 25,
          "metadata": {},
          "output_type": "execute_result"
        }
      ],
      "source": [
        "from sklearn.linear_model import LogisticRegression\n",
        "from sklearn.pipeline import make_pipeline\n",
        "from sklearn.model_selection import cross_val_score\n",
        "\n",
        "lr_pipe = make_pipeline(LogisticRegression())\n",
        "lr_scores = cross_val_score(lr_pipe, X_important_train, y_train, cv=3, scoring='balanced_accuracy')\n",
        "lr_scores.mean().round(4)"
      ]
    },
    {
      "cell_type": "markdown",
      "source": [
        "## 10.5 Decision Tree\n",
        "\n",
        "Decision trees doesnt require a lot of preprocessing: and doesn't require expansion of categorical variables (which is most of our dataset), and since values of two columns are rarely compared, don't require normalization. with that reasoning we are skipping  Pipelines and directely work with the data in the original format."
      ],
      "metadata": {
        "id": "Z4OWwFnj3q0Z"
      }
    },
    {
      "cell_type": "markdown",
      "source": [
        "\n",
        "\n",
        "---\n",
        "\n",
        "\n"
      ],
      "metadata": {
        "id": "S48_EyU1k-4z"
      }
    },
    {
      "cell_type": "code",
      "source": [
        "## Learn and examine a decision tree classifier\n",
        "from sklearn.tree import DecisionTreeClassifier, plot_tree\n",
        "\n",
        "clf = DecisionTreeClassifier(max_depth=3) # maximum of three layers after root (layer 0).\n",
        "clf.fit(train_X, train_y)\n",
        "plt.figure(dpi=200) # Makes the figure a little larger, easier to read.\n",
        "plot_tree(clf, filled=True, feature_names=list(train_X.columns)); # graphically shows the tree"
      ],
      "metadata": {
        "colab": {
          "base_uri": "https://localhost:8080/",
          "height": 681
        },
        "id": "yupKJGGX2IOP",
        "outputId": "5e2a8c14-0378-41e7-e81d-9c7318ecd8a9"
      },
      "execution_count": null,
      "outputs": [
        {
          "output_type": "display_data",
          "data": {
            "text/plain": [
              "<Figure size 1200x800 with 1 Axes>"
            ],
            "image/png": "[encoded data removed]"
          },
          "metadata": {
            "needs_background": "light"
          }
        }
      ]
    },
    {
      "cell_type": "code",
      "source": [
        "## Pruning the tree\n",
        "clf_full = DecisionTreeClassifier().fit(train_X, train_y) # we'll learn a new full tree\n",
        "path = clf_full.cost_complexity_pruning_path(train_X, train_y)\n",
        "ccp_alphas, impurities = path.ccp_alphas, path.impurities # default impurity is Gini\n",
        "plt.plot(ccp_alphas, impurities, marker='o', drawstyle='steps-post')\n",
        "plt.xlabel('Alphas'); plt.ylabel('Total impurity');"
      ],
      "metadata": {
        "colab": {
          "base_uri": "https://localhost:8080/",
          "height": 279
        },
        "id": "SWdiJHzJ-Kaq",
        "outputId": "7d3a5de3-a0aa-4261-bbb0-7e7930361e80"
      },
      "execution_count": null,
      "outputs": [
        {
          "output_type": "display_data",
          "data": {
            "text/plain": [
              "<Figure size 432x288 with 1 Axes>"
            ],
            "image/png": "[encoded data removed]"
          },
          "metadata": {
            "needs_background": "light"
          }
        }
      ]
    },
    {
      "cell_type": "code",
      "source": [
        "clfs = []\n",
        "for ccp_alpha in ccp_alphas:\n",
        "    clf_i = DecisionTreeClassifier(random_state=0, ccp_alpha=ccp_alpha)\n",
        "    clf_i.fit(train_X, train_y)\n",
        "    clfs.append(clf_i)\n",
        "\n",
        "node_counts = [clf_i.tree_.node_count for clf_i in clfs]\n",
        "depth = [clf_i.tree_.max_depth for clf_i in clfs]\n",
        "\n",
        "fig, ax = plt.subplots(2, 1, dpi=100)\n",
        "ax[0].plot(ccp_alphas, node_counts, marker=\"o\", drawstyle=\"steps-post\")\n",
        "ax[0].set_xlabel(\"alpha\")\n",
        "ax[0].set_ylabel(\"number of nodes\")\n",
        "ax[0].set_title(\"Number of nodes vs alpha\")\n",
        "ax[1].plot(ccp_alphas, depth, marker=\"o\", drawstyle=\"steps-post\")\n",
        "ax[1].set_xlabel(\"alpha\")\n",
        "ax[1].set_ylabel(\"depth of tree\")\n",
        "ax[1].set_title(\"Depth vs alpha\")\n",
        "fig.tight_layout()"
      ],
      "metadata": {
        "colab": {
          "base_uri": "https://localhost:8080/",
          "height": 406
        },
        "id": "CqwLKcgcApgb",
        "outputId": "fd9e92bb-73cb-4b07-f3d0-9956742f06d9"
      },
      "execution_count": null,
      "outputs": [
        {
          "output_type": "display_data",
          "data": {
            "text/plain": [
              "<Figure size 600x400 with 2 Axes>"
            ],
            "image/png": "[encoded data removed]"
          },
          "metadata": {
            "needs_background": "light"
          }
        }
      ]
    },
    {
      "cell_type": "code",
      "source": [
        "train_scores = [clf_i.score(train_X, train_y) for clf_i in clfs]\n",
        "test_scores = [clf_i.score(test_X, test_y) for clf_i in clfs]\n",
        "\n",
        "fig, ax = plt.subplots(dpi=100)\n",
        "ax.set_xlabel(\"alpha\")\n",
        "ax.set_ylabel(\"accuracy\")\n",
        "ax.set_title(\"Accuracy vs alpha for training and testing sets\")\n",
        "ax.plot(ccp_alphas, train_scores, marker=\"o\", label=\"train\", drawstyle=\"steps-post\")\n",
        "ax.plot(ccp_alphas, test_scores, marker=\"o\", label=\"test\", drawstyle=\"steps-post\")\n",
        "ax.legend()\n",
        "plt.show()"
      ],
      "metadata": {
        "colab": {
          "base_uri": "https://localhost:8080/",
          "height": 404
        },
        "id": "hymfSCiIEUm5",
        "outputId": "8916efe6-3998-4439-a058-188c9e7ff2c5"
      },
      "execution_count": null,
      "outputs": [
        {
          "output_type": "display_data",
          "data": {
            "text/plain": [
              "<Figure size 600x400 with 1 Axes>"
            ],
            "image/png": "[encoded data removed]"
          },
          "metadata": {
            "needs_background": "light"
          }
        }
      ]
    },
    {
      "cell_type": "code",
      "source": [
        "from sklearn.model_selection import GridSearchCV\n",
        "\n",
        "param_grid = {'ccp_alpha': ccp_alphas}  # Just one parameter, no pipeline steps, thus no __ syntax.\n",
        "\n",
        "grid_search = GridSearchCV(DecisionTreeClassifier(random_state=42), param_grid, cv=5, scoring='accuracy')\n",
        "  # We start with a \"blank\" tree, without any max_depth or other parameters. \n",
        "  # We'll control the size of the tree only via the alpha parameter.\n",
        "grid_search.fit(train_X, train_y)\n",
        "grid_cv_res = pd.DataFrame(grid_search.cv_results_)\n",
        "grid_cv_res.sort_values(by=\"mean_test_score\", ascending=False, inplace=True)\n",
        "grid_cv_res.filter(regex = '(^param_|mean_test_score)', axis=1)"
      ],
      "metadata": {
        "colab": {
          "base_uri": "https://localhost:8080/",
          "height": 424
        },
        "id": "sJGro7h1EzEL",
        "outputId": "7e729606-1da1-418c-faa2-714bc8d46be0"
      },
      "execution_count": null,
      "outputs": [
        {
          "output_type": "execute_result",
          "data": {
            "text/plain": [
              "    param_ccp_alpha  mean_test_score\n",
              "484        0.002751          0.85825\n",
              "481        0.001239          0.85725\n",
              "483        0.001288          0.85725\n",
              "482        0.001262          0.85725\n",
              "476        0.000788          0.85625\n",
              "..              ...              ...\n",
              "3          0.000031          0.78075\n",
              "2          0.000031          0.78075\n",
              "1          0.000028          0.78075\n",
              "4          0.000033          0.78075\n",
              "0               0.0          0.78075\n",
              "\n",
              "[489 rows x 2 columns]"
            ],
            "text/html": [
              "\n",
              "  <div id=\"df-d24ee6db-60fd-4273-abf0-0d43cc007122\">\n",
              "    <div class=\"colab-df-container\">\n",
              "      <div>\n",
              "<style scoped>\n",
              "    .dataframe tbody tr th:only-of-type {\n",
              "        vertical-align: middle;\n",
              "    }\n",
              "\n",
              "    .dataframe tbody tr th {\n",
              "        vertical-align: top;\n",
              "    }\n",
              "\n",
              "    .dataframe thead th {\n",
              "        text-align: right;\n",
              "    }\n",
              "</style>\n",
              "<table border=\"1\" class=\"dataframe\">\n",
              "  <thead>\n",
              "    <tr style=\"text-align: right;\">\n",
              "      <th></th>\n",
              "      <th>param_ccp_alpha</th>\n",
              "      <th>mean_test_score</th>\n",
              "    </tr>\n",
              "  </thead>\n",
              "  <tbody>\n",
              "    <tr>\n",
              "      <th>484</th>\n",
              "      <td>0.002751</td>\n",
              "      <td>0.85825</td>\n",
              "    </tr>\n",
              "    <tr>\n",
              "      <th>481</th>\n",
              "      <td>0.001239</td>\n",
              "      <td>0.85725</td>\n",
              "    </tr>\n",
              "    <tr>\n",
              "      <th>483</th>\n",
              "      <td>0.001288</td>\n",
              "      <td>0.85725</td>\n",
              "    </tr>\n",
              "    <tr>\n",
              "      <th>482</th>\n",
              "      <td>0.001262</td>\n",
              "      <td>0.85725</td>\n",
              "    </tr>\n",
              "    <tr>\n",
              "      <th>476</th>\n",
              "      <td>0.000788</td>\n",
              "      <td>0.85625</td>\n",
              "    </tr>\n",
              "    <tr>\n",
              "      <th>...</th>\n",
              "      <td>...</td>\n",
              "      <td>...</td>\n",
              "    </tr>\n",
              "    <tr>\n",
              "      <th>3</th>\n",
              "      <td>0.000031</td>\n",
              "      <td>0.78075</td>\n",
              "    </tr>\n",
              "    <tr>\n",
              "      <th>2</th>\n",
              "      <td>0.000031</td>\n",
              "      <td>0.78075</td>\n",
              "    </tr>\n",
              "    <tr>\n",
              "      <th>1</th>\n",
              "      <td>0.000028</td>\n",
              "      <td>0.78075</td>\n",
              "    </tr>\n",
              "    <tr>\n",
              "      <th>4</th>\n",
              "      <td>0.000033</td>\n",
              "      <td>0.78075</td>\n",
              "    </tr>\n",
              "    <tr>\n",
              "      <th>0</th>\n",
              "      <td>0.0</td>\n",
              "      <td>0.78075</td>\n",
              "    </tr>\n",
              "  </tbody>\n",
              "</table>\n",
              "<p>489 rows × 2 columns</p>\n",
              "</div>\n",
              "      <button class=\"colab-df-convert\" onclick=\"convertToInteractive('df-d24ee6db-60fd-4273-abf0-0d43cc007122')\"\n",
              "              title=\"Convert this dataframe to an interactive table.\"\n",
              "              style=\"display:none;\">\n",
              "        \n",
              "  <svg xmlns=\"http://www.w3.org/2000/svg\" height=\"24px\"viewBox=\"0 0 24 24\"\n",
              "       width=\"24px\">\n",
              "    <path d=\"M0 0h24v24H0V0z\" fill=\"none\"/>\n",
              "    <path d=\"M18.56 5.44l.94 2.06.94-2.06 2.06-.94-2.06-.94-.94-2.06-.94 2.06-2.06.94zm-11 1L8.5 8.5l.94-2.06 2.06-.94-2.06-.94L8.5 2.5l-.94 2.06-2.06.94zm10 10l.94 2.06.94-2.06 2.06-.94-2.06-.94-.94-2.06-.94 2.06-2.06.94z\"/><path d=\"M17.41 7.96l-1.37-1.37c-.4-.4-.92-.59-1.43-.59-.52 0-1.04.2-1.43.59L10.3 9.45l-7.72 7.72c-.78.78-.78 2.05 0 2.83L4 21.41c.39.39.9.59 1.41.59.51 0 1.02-.2 1.41-.59l7.78-7.78 2.81-2.81c.8-.78.8-2.07 0-2.86zM5.41 20L4 18.59l7.72-7.72 1.47 1.35L5.41 20z\"/>\n",
              "  </svg>\n",
              "      </button>\n",
              "      \n",
              "  <style>\n",
              "    .colab-df-container {\n",
              "      display:flex;\n",
              "      flex-wrap:wrap;\n",
              "      gap: 12px;\n",
              "    }\n",
              "\n",
              "    .colab-df-convert {\n",
              "      background-color: #E8F0FE;\n",
              "      border: none;\n",
              "      border-radius: 50%;\n",
              "      cursor: pointer;\n",
              "      display: none;\n",
              "      fill: #1967D2;\n",
              "      height: 32px;\n",
              "      padding: 0 0 0 0;\n",
              "      width: 32px;\n",
              "    }\n",
              "\n",
              "    .colab-df-convert:hover {\n",
              "      background-color: #E2EBFA;\n",
              "      box-shadow: 0px 1px 2px rgba(60, 64, 67, 0.3), 0px 1px 3px 1px rgba(60, 64, 67, 0.15);\n",
              "      fill: #174EA6;\n",
              "    }\n",
              "\n",
              "    [theme=dark] .colab-df-convert {\n",
              "      background-color: #3B4455;\n",
              "      fill: #D2E3FC;\n",
              "    }\n",
              "\n",
              "    [theme=dark] .colab-df-convert:hover {\n",
              "      background-color: #434B5C;\n",
              "      box-shadow: 0px 1px 3px 1px rgba(0, 0, 0, 0.15);\n",
              "      filter: drop-shadow(0px 1px 2px rgba(0, 0, 0, 0.3));\n",
              "      fill: #FFFFFF;\n",
              "    }\n",
              "  </style>\n",
              "\n",
              "      <script>\n",
              "        const buttonEl =\n",
              "          document.querySelector('#df-d24ee6db-60fd-4273-abf0-0d43cc007122 button.colab-df-convert');\n",
              "        buttonEl.style.display =\n",
              "          google.colab.kernel.accessAllowed ? 'block' : 'none';\n",
              "\n",
              "        async function convertToInteractive(key) {\n",
              "          const element = document.querySelector('#df-d24ee6db-60fd-4273-abf0-0d43cc007122');\n",
              "          const dataTable =\n",
              "            await google.colab.kernel.invokeFunction('convertToInteractive',\n",
              "                                                     [key], {});\n",
              "          if (!dataTable) return;\n",
              "\n",
              "          const docLinkHtml = 'Like what you see? Visit the ' +\n",
              "            '<a target=\"_blank\" href=https://colab.research.google.com/notebooks/data_table.ipynb>data table notebook</a>'\n",
              "            + ' to learn more about interactive tables.';\n",
              "          element.innerHTML = '';\n",
              "          dataTable['output_type'] = 'display_data';\n",
              "          await google.colab.output.renderOutput(dataTable, element);\n",
              "          const docLink = document.createElement('div');\n",
              "          docLink.innerHTML = docLinkHtml;\n",
              "          element.appendChild(docLink);\n",
              "        }\n",
              "      </script>\n",
              "    </div>\n",
              "  </div>\n",
              "  "
            ]
          },
          "metadata": {},
          "execution_count": 16
        }
      ]
    },
    {
      "cell_type": "markdown",
      "source": [],
      "metadata": {
        "id": "1AcE2d7k3tya"
      }
    },
    {
      "cell_type": "code",
      "source": [
        "#accuracy_score\n",
        "from sklearn.metrics import accuracy_score\n",
        "\n",
        "clf_opt = clfs[grid_cv_res.index[0]]  # Use the index of the best/top grid search result to pick the best tree.\n",
        "fig, ax = plt.subplots(2, 1, dpi=150)\n",
        "plot_tree(clf_opt, filled=True, feature_names=list(train_X.columns), impurity=False, ax=ax[0]) # opt\n",
        "plot_tree(clf, filled=True, feature_names=list(train_X.columns), impurity=False, ax=ax[1]) # initial\n",
        "fig.tight_layout()\n",
        "\n",
        "print(f'Test accuracy was {accuracy_score(test_y, clf_opt.predict(test_X)):2.2%}.')\n",
        "clf_opt.tree_.node_count, clf_opt.tree_.max_depth"
      ],
      "metadata": {
        "colab": {
          "base_uri": "https://localhost:8080/",
          "height": 658
        },
        "id": "COsyDfbFGXxG",
        "outputId": "c70e19a4-17a8-4191-be18-476b1c9e1eeb"
      },
      "execution_count": null,
      "outputs": [
        {
          "output_type": "stream",
          "name": "stdout",
          "text": [
            "Test accuracy was 83.25%.\n"
          ]
        },
        {
          "output_type": "execute_result",
          "data": {
            "text/plain": [
              "(11, 3)"
            ]
          },
          "metadata": {},
          "execution_count": 17
        },
        {
          "output_type": "display_data",
          "data": {
            "text/plain": [
              "<Figure size 900x600 with 2 Axes>"
            ],
            "image/png": "[encoded data removed]"
          },
          "metadata": {
            "needs_background": "light"
          }
        }
      ]
    },
    {
      "cell_type": "code",
      "source": [
        "#Balance accuracy\n",
        "from sklearn.tree import DecisionTreeClassifier, plot_tree\n",
        "from sklearn.pipeline import make_pipeline\n",
        "from sklearn.model_selection import cross_val_score\n",
        "\n",
        "dt_pipe = make_pipeline(DecisionTreeClassifier(max_depth=3))\n",
        "dt_class_scores = cross_val_score(dt_pipe, train_X, train_y, cv=10, scoring='balanced_accuracy')\n",
        "dt_class_scores.mean().round(4)"
      ],
      "metadata": {
        "colab": {
          "base_uri": "https://localhost:8080/"
        },
        "id": "dpuADlpNZvj-",
        "outputId": "a5815fbd-c29b-44ff-dd3d-c107f262e2bb"
      },
      "execution_count": null,
      "outputs": [
        {
          "output_type": "execute_result",
          "data": {
            "text/plain": [
              "0.6185"
            ]
          },
          "metadata": {},
          "execution_count": 26
        }
      ]
    },
    {
      "cell_type": "markdown",
      "metadata": {
        "id": "AoNMl364hRkX"
      },
      "source": [
        "#11.Hyperparameter Tuning\n",
        "\n",
        "Randomised search is arguably the most basic hyperparameter tuning method. This technique only selects and tests a random combination of hyperparameters. This technique works best for larger dataset.\n",
        "\n",
        "For example, we would define a list of values to try for both n_estimators and max_depth and a randomised search would build a model for each possible combination."
      ]
    },
    {
      "cell_type": "code",
      "execution_count": null,
      "metadata": {
        "id": "hMhzdB-kydeO"
      },
      "outputs": [],
      "source": [
        "from sklearn.model_selection import GridSearchCV\n",
        "\n",
        "full_pipeline = Pipeline([\n",
        "    (\"preprocessing\", preprocess_pipeline),\n",
        "    (\"random_forest\", RandomForestClassifier(n_estimators=100, random_state=42)),\n",
        "])\n",
        "\n",
        "param_grid = [ \n",
        "    {'random_forest__max_depth': [2, 4, 6], \n",
        "    'random_forest__min_samples_leaf': [5, 10], }, \n",
        "    ]\n",
        "grid_search = GridSearchCV(full_pipeline, param_grid, cv=3, scoring='balanced_accuracy')\n",
        "grid_search.fit(X, y)\n",
        "\n",
        "grid_search.best_estimator_\n",
        "cv_res = pd.DataFrame(grid_search.cv_results_)\n",
        "cv_res.sort_values(by=\"mean_test_score\", ascending=False, inplace=True)\n",
        "\n",
        "print((\"Best balanced accuracy score: {:.3f}\").format(grid_search.best_score_))\n",
        "print((\"Best parameters: {}\").format(grid_search.best_params_))\n"
      ]
    },
    {
      "cell_type": "code",
      "execution_count": null,
      "metadata": {
        "colab": {
          "background_save": true
        },
        "id": "G2VVCYJsXbF8"
      },
      "outputs": [],
      "source": [
        "from sklearn.model_selection import RandomizedSearchCV\n",
        "from scipy.stats import randint\n",
        "\n",
        "param_grid2 = [ \n",
        "    {'random_forest__max_depth': randint(2,100), \n",
        "    'random_forest__min_samples_leaf': randint(2, 100)} \n",
        "    ]\n",
        "random_search = RandomizedSearchCV(full_pipeline, param_grid2, cv=3, scoring='balanced_accuracy')\n",
        "random_search.fit(X, y)\n",
        "\n",
        "random_search.best_estimator_\n",
        "cv_resrandom = pd.DataFrame(random_search.cv_results_)\n",
        "cv_resrandom.sort_values(by=\"mean_test_score\", ascending=False, inplace=True)\n",
        "\n",
        "print((\"Best balanced accuracy score: {:.3f}\").format(random_search.best_score_))\n",
        "print((\"Best parameters: {}\").format(random_search.best_params_))\n"
      ]
    },
    {
      "cell_type": "code",
      "execution_count": null,
      "metadata": {
        "colab": {
          "background_save": true
        },
        "id": "oyt0Nl2sOKE9"
      },
      "outputs": [],
      "source": [
        "X_test = preprocess_pipeline.fit_transform(test_X)\n",
        "y_test = test_y.values"
      ]
    },
    {
      "cell_type": "markdown",
      "metadata": {
        "id": "VA-hdOjziZyI"
      },
      "source": [
        "## 11.1Applying on Test Data (Random Forest Classifier)"
      ]
    },
    {
      "cell_type": "code",
      "execution_count": null,
      "metadata": {
        "colab": {
          "background_save": true
        },
        "id": "6D68JKR5OPVO"
      },
      "outputs": [],
      "source": [
        "from sklearn.ensemble import RandomForestClassifier\n",
        "from sklearn import datasets\n",
        "from sklearn.feature_selection import SelectFromModel\n",
        "from sklearn.metrics import accuracy_score\n",
        "from sklearn.metrics import accuracy_score, balanced_accuracy_score\n",
        "\n",
        "clf_test = RandomForestClassifier(n_estimators=200,max_depth=20,min_samples_leaf=1, random_state=42)\n",
        "clf_test.fit(X_test, y_test)\n",
        "y_pred_t = clf_test.predict(X_test)\n",
        "#round(balanced_accuracy_score(y_train_final, y_pred), 4)"
      ]
    },
    {
      "cell_type": "markdown",
      "metadata": {
        "id": "hAE7aguge7V6"
      },
      "source": [
        "## 11.2Feature Importance\n",
        "\n",
        "We're calculating feature importance to see which variables seem to be the most relevant and most important to run our prediction model.\n"
      ]
    },
    {
      "cell_type": "code",
      "execution_count": null,
      "metadata": {
        "colab": {
          "background_save": true
        },
        "id": "K1fRlHuvOcr0"
      },
      "outputs": [],
      "source": [
        "feat_labels = preprocess_pipeline.get_feature_names_out()\n",
        "\n",
        "features = []\n",
        "for feature in zip(feat_labels, clf_test.feature_importances_):\n",
        "    features.append(feature)\n",
        "features = pd.DataFrame(features)\n",
        "\n",
        "sfm_test = SelectFromModel(clf_test, threshold=0.01)\n",
        "sfm_test.fit(X_test, y_test)\n",
        "\n",
        "print('Below are the important features that have an importance threshold higher than 0.01')\n",
        "for feature_list_index in sfm_test.get_support(indices=True):\n",
        "    print(feat_labels[feature_list_index])"
      ]
    },
    {
      "cell_type": "code",
      "execution_count": null,
      "metadata": {
        "colab": {
          "background_save": true
        },
        "id": "OZyejiGsOjXp"
      },
      "outputs": [],
      "source": [
        "X_important_test = sfm_test.transform(X_test)\n",
        "\n",
        "clf_test.fit(X_important_test, y_test)\n",
        "y_pred_test = clf_test.predict(X_important_test)\n",
        "round(balanced_accuracy_score(y_test, y_pred_test), 4)"
      ]
    },
    {
      "cell_type": "markdown",
      "metadata": {
        "id": "ZTVmQnqdgpVj"
      },
      "source": [
        "#12.Challenges and Conclusion\n",
        "\n",
        "We encountered a few challenges while running the project: \n",
        "- Survey Nature: Most of our variables needed to be converted into categorical with one hot encoding (other CDC datasets face the same issue).\n",
        "- The large size of the dataset prevented us from running models like SVM\n",
        "- Class imbalance: our dataset was moderately imbalanced so we had to take appropriate action to make sure our metric was still realistic. We tested NearMiss vs SMOTE (overfitting) and used imbalanced accuracy as final metric.\n",
        "\n",
        "Finally, we felt that Random Forest is the best for our healthcare dataset, as it showed the best combination between computing time and accuracy score. \n",
        "\n",
        "Step Ahead with Feature selection: High BP, High Cholesterol, Smoking\n",
        "Income categorisation > Age categorisation \n",
        "\n",
        "\n"
      ]
    }
  ],
  "metadata": {
    "accelerator": "GPU",
    "colab": {
      "collapsed_sections": [
        "XDAzdrB_oCMx",
        "S3viK9A0EZ3V",
        "Am28KeTQNe0y",
        "UBmWplthM4PV",
        "tyctgAdSNLWd"
      ],
      "provenance": []
    },
    "gpuClass": "standard",
    "kernelspec": {
      "display_name": "Python 3",
      "name": "python3"
    },
    "language_info": {
      "name": "python"
    }
  },
  "nbformat": 4,
  "nbformat_minor": 0
}